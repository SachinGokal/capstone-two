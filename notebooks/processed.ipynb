{
 "cells": [
  {
   "cell_type": "code",
   "execution_count": 55,
   "metadata": {},
   "outputs": [],
   "source": [
    "import numpy as np\n",
    "import pandas as pd\n",
    "import matplotlib.pyplot as plt\n",
    "import scikitplot as skplt\n",
    "from sklearn.ensemble import GradientBoostingRegressor, RandomForestClassifier\n",
    "from sklearn.preprocessing import StandardScaler\n",
    "from sklearn.metrics import (\n",
    "    r2_score, accuracy_score, precision_score, recall_score, confusion_matrix, classification_report\n",
    ")\n",
    "from sklearn.model_selection import train_test_split, GridSearchCV"
   ]
  },
  {
   "cell_type": "code",
   "execution_count": 2,
   "metadata": {},
   "outputs": [],
   "source": [
    "df = pd.read_csv('../data/processed/combined-swell-classification-hrv-train-dataset.csv')"
   ]
  },
  {
   "cell_type": "code",
   "execution_count": 3,
   "metadata": {},
   "outputs": [],
   "source": [
    "val = pd.read_csv('../data/processed/combined-swell-classification-hrv-validation-dataset.csv')"
   ]
  },
  {
   "cell_type": "code",
   "execution_count": 4,
   "metadata": {},
   "outputs": [],
   "source": [
    "df = pd.concat([df, val])"
   ]
  },
  {
   "cell_type": "code",
   "execution_count": 5,
   "metadata": {},
   "outputs": [],
   "source": [
    "## NOTES ON FEATURES\n",
    "# RR is the peak in a heartbeat\n",
    "# RR interval (RRI) is the distance between peaks in milliseconds between beats from an ECG\n",
    "# RMSDD is the square root of the mean distance between RR for a period of time\n",
    "# RMSDD is used as HRV calculation based on one minute intervals\n",
    "# SDNN is the standard deviaiton of all the RR intervals\n",
    "\n",
    "## NOTES ON EXPERIMENT CONDITIONS\n",
    "# Conditions are R: rest, N: no stress, T: time pressure, I: interruption \n",
    "# No stress - Allowed to work for a maximum 45 minutes but they don't know the duration \n",
    "# Time Pressure - Time limit of 2/3 to complete task based on duration in no stress\n",
    "# Interruption - Received 8 emails in the middle of the assigned task \n",
    "\n",
    "## NOTES ON STRESS QUSTIONNAIRE TAKEN AFTER EVERY EXPERIMENT CONDITION\n",
    "\n",
    "# NASA TLX - NASA Task Load Index is used as a measure of mental load: High, Medium, Low\n",
    "# multi-dimensional rating for mental demand, physical demand, temporal deman, effort,\n",
    "# performance, and frustration"
   ]
  },
  {
   "cell_type": "code",
   "execution_count": 6,
   "metadata": {},
   "outputs": [
    {
     "name": "stdout",
     "output_type": "stream",
     "text": [
      "<class 'pandas.core.frame.DataFrame'>\n",
      "Int64Index: 352474 entries, 0 to 39163\n",
      "Data columns (total 69 columns):\n",
      "MEAN_RR                     352474 non-null float64\n",
      "MEDIAN_RR                   352474 non-null float64\n",
      "SDRR                        352474 non-null float64\n",
      "RMSSD                       352474 non-null float64\n",
      "SDSD                        352474 non-null float64\n",
      "SDRR_RMSSD                  352474 non-null float64\n",
      "HR                          352474 non-null float64\n",
      "pNN25                       352474 non-null float64\n",
      "pNN50                       352474 non-null float64\n",
      "SD1                         352474 non-null float64\n",
      "SD2                         352474 non-null float64\n",
      "KURT                        352474 non-null float64\n",
      "SKEW                        352474 non-null float64\n",
      "MEAN_REL_RR                 352474 non-null float64\n",
      "MEDIAN_REL_RR               352474 non-null float64\n",
      "SDRR_REL_RR                 352474 non-null float64\n",
      "RMSSD_REL_RR                352474 non-null float64\n",
      "SDSD_REL_RR                 352474 non-null float64\n",
      "SDRR_RMSSD_REL_RR           352474 non-null float64\n",
      "KURT_REL_RR                 352474 non-null float64\n",
      "SKEW_REL_RR                 352474 non-null float64\n",
      "VLF                         352474 non-null float64\n",
      "VLF_PCT                     352474 non-null float64\n",
      "LF                          352474 non-null float64\n",
      "LF_PCT                      352474 non-null float64\n",
      "LF_NU                       352474 non-null float64\n",
      "HF                          352474 non-null float64\n",
      "HF_PCT                      352474 non-null float64\n",
      "HF_NU                       352474 non-null float64\n",
      "TP                          352474 non-null float64\n",
      "LF_HF                       352474 non-null float64\n",
      "HF_LF                       352474 non-null float64\n",
      "sampen                      352474 non-null float64\n",
      "higuci                      352474 non-null float64\n",
      "condition                   352474 non-null object\n",
      "subject_id                  352474 non-null int64\n",
      "MEAN_RR_LOG                 352474 non-null float64\n",
      "MEAN_RR_SQRT                352474 non-null float64\n",
      "TP_SQRT                     352474 non-null float64\n",
      "MEDIAN_REL_RR_LOG           352474 non-null float64\n",
      "RMSSD_REL_RR_LOG            352474 non-null float64\n",
      "SDSD_REL_RR_LOG             352474 non-null float64\n",
      "VLF_LOG                     352474 non-null float64\n",
      "LF_LOG                      352474 non-null float64\n",
      "HF_LOG                      352474 non-null float64\n",
      "TP_LOG                      352474 non-null float64\n",
      "LF_HF_LOG                   352474 non-null float64\n",
      "RMSSD_LOG                   352474 non-null float64\n",
      "SDRR_RMSSD_LOG              352474 non-null float64\n",
      "pNN25_LOG                   352474 non-null float64\n",
      "pNN50_LOG                   352474 non-null float64\n",
      "SD1_LOG                     352474 non-null float64\n",
      "KURT_YEO_JONSON             352474 non-null float64\n",
      "SKEW_YEO_JONSON             352474 non-null float64\n",
      "MEAN_REL_RR_YEO_JONSON      352474 non-null float64\n",
      "SKEW_REL_RR_YEO_JONSON      352474 non-null float64\n",
      "LF_BOXCOX                   352474 non-null float64\n",
      "HF_BOXCOX                   352474 non-null float64\n",
      "SD1_BOXCOX                  352474 non-null float64\n",
      "KURT_SQUARE                 352474 non-null float64\n",
      "HR_SQRT                     352474 non-null float64\n",
      "MEAN_RR_MEAN_MEAN_REL_RR    352474 non-null float64\n",
      "SD2_LF                      352474 non-null float64\n",
      "HR_LF                       352474 non-null float64\n",
      "HR_HF                       352474 non-null float64\n",
      "HF_VLF                      352474 non-null float64\n",
      "NasaTLX class               352474 non-null object\n",
      "Condition Label             352474 non-null int64\n",
      "NasaTLX Label               352474 non-null int64\n",
      "dtypes: float64(64), int64(3), object(2)\n",
      "memory usage: 188.2+ MB\n"
     ]
    }
   ],
   "source": [
    "df.info()"
   ]
  },
  {
   "cell_type": "code",
   "execution_count": 7,
   "metadata": {},
   "outputs": [
    {
     "data": {
      "text/html": [
       "<div>\n",
       "<style scoped>\n",
       "    .dataframe tbody tr th:only-of-type {\n",
       "        vertical-align: middle;\n",
       "    }\n",
       "\n",
       "    .dataframe tbody tr th {\n",
       "        vertical-align: top;\n",
       "    }\n",
       "\n",
       "    .dataframe thead th {\n",
       "        text-align: right;\n",
       "    }\n",
       "</style>\n",
       "<table border=\"1\" class=\"dataframe\">\n",
       "  <thead>\n",
       "    <tr style=\"text-align: right;\">\n",
       "      <th></th>\n",
       "      <th>MEAN_RR</th>\n",
       "      <th>MEDIAN_RR</th>\n",
       "      <th>SDRR</th>\n",
       "      <th>RMSSD</th>\n",
       "      <th>SDSD</th>\n",
       "      <th>SDRR_RMSSD</th>\n",
       "      <th>HR</th>\n",
       "      <th>pNN25</th>\n",
       "      <th>pNN50</th>\n",
       "      <th>SD1</th>\n",
       "      <th>...</th>\n",
       "      <th>SD1_BOXCOX</th>\n",
       "      <th>KURT_SQUARE</th>\n",
       "      <th>HR_SQRT</th>\n",
       "      <th>MEAN_RR_MEAN_MEAN_REL_RR</th>\n",
       "      <th>SD2_LF</th>\n",
       "      <th>HR_LF</th>\n",
       "      <th>HR_HF</th>\n",
       "      <th>HF_VLF</th>\n",
       "      <th>Condition Label</th>\n",
       "      <th>NasaTLX Label</th>\n",
       "    </tr>\n",
       "  </thead>\n",
       "  <tbody>\n",
       "    <tr>\n",
       "      <td>count</td>\n",
       "      <td>352474.000000</td>\n",
       "      <td>352474.000000</td>\n",
       "      <td>352474.000000</td>\n",
       "      <td>352474.000000</td>\n",
       "      <td>352474.000000</td>\n",
       "      <td>352474.000000</td>\n",
       "      <td>352474.000000</td>\n",
       "      <td>352474.000000</td>\n",
       "      <td>352474.000000</td>\n",
       "      <td>352474.000000</td>\n",
       "      <td>...</td>\n",
       "      <td>352474.000000</td>\n",
       "      <td>3.524740e+05</td>\n",
       "      <td>352474.000000</td>\n",
       "      <td>3.524740e+05</td>\n",
       "      <td>352474.000000</td>\n",
       "      <td>352474.000000</td>\n",
       "      <td>352474.000000</td>\n",
       "      <td>352474.000000</td>\n",
       "      <td>352474.000000</td>\n",
       "      <td>352474.000000</td>\n",
       "    </tr>\n",
       "    <tr>\n",
       "      <td>mean</td>\n",
       "      <td>838.474161</td>\n",
       "      <td>834.060686</td>\n",
       "      <td>109.052370</td>\n",
       "      <td>14.979317</td>\n",
       "      <td>14.978579</td>\n",
       "      <td>7.395047</td>\n",
       "      <td>74.589986</td>\n",
       "      <td>9.872043</td>\n",
       "      <td>0.871194</td>\n",
       "      <td>10.594989</td>\n",
       "      <td>...</td>\n",
       "      <td>402.359505</td>\n",
       "      <td>3.576022e+00</td>\n",
       "      <td>8.617103</td>\n",
       "      <td>7.549407e+06</td>\n",
       "      <td>0.233577</td>\n",
       "      <td>0.111791</td>\n",
       "      <td>6.390759</td>\n",
       "      <td>0.033403</td>\n",
       "      <td>0.632501</td>\n",
       "      <td>1.002298</td>\n",
       "    </tr>\n",
       "    <tr>\n",
       "      <td>std</td>\n",
       "      <td>119.673432</td>\n",
       "      <td>128.724227</td>\n",
       "      <td>77.289341</td>\n",
       "      <td>4.155247</td>\n",
       "      <td>4.155266</td>\n",
       "      <td>5.202027</td>\n",
       "      <td>10.071975</td>\n",
       "      <td>8.272959</td>\n",
       "      <td>0.986410</td>\n",
       "      <td>2.939197</td>\n",
       "      <td>...</td>\n",
       "      <td>1719.396930</td>\n",
       "      <td>3.219256e+01</td>\n",
       "      <td>0.579250</td>\n",
       "      <td>3.622634e+09</td>\n",
       "      <td>0.442579</td>\n",
       "      <td>0.076299</td>\n",
       "      <td>26.486456</td>\n",
       "      <td>0.042141</td>\n",
       "      <td>0.762709</td>\n",
       "      <td>0.817129</td>\n",
       "    </tr>\n",
       "    <tr>\n",
       "      <td>min</td>\n",
       "      <td>547.483802</td>\n",
       "      <td>517.293295</td>\n",
       "      <td>27.233947</td>\n",
       "      <td>5.529742</td>\n",
       "      <td>5.529630</td>\n",
       "      <td>2.660381</td>\n",
       "      <td>48.736986</td>\n",
       "      <td>0.000000</td>\n",
       "      <td>0.000000</td>\n",
       "      <td>3.911344</td>\n",
       "      <td>...</td>\n",
       "      <td>0.124982</td>\n",
       "      <td>7.720668e-11</td>\n",
       "      <td>6.981188</td>\n",
       "      <td>-3.087910e+11</td>\n",
       "      <td>0.034754</td>\n",
       "      <td>0.021164</td>\n",
       "      <td>0.261909</td>\n",
       "      <td>0.000037</td>\n",
       "      <td>0.000000</td>\n",
       "      <td>0.000000</td>\n",
       "    </tr>\n",
       "    <tr>\n",
       "      <td>25%</td>\n",
       "      <td>757.424245</td>\n",
       "      <td>752.467675</td>\n",
       "      <td>64.034262</td>\n",
       "      <td>11.791692</td>\n",
       "      <td>11.791217</td>\n",
       "      <td>4.488405</td>\n",
       "      <td>67.685208</td>\n",
       "      <td>3.666667</td>\n",
       "      <td>0.000000</td>\n",
       "      <td>8.340432</td>\n",
       "      <td>...</td>\n",
       "      <td>0.730927</td>\n",
       "      <td>5.432918e-02</td>\n",
       "      <td>8.227102</td>\n",
       "      <td>-1.146890e+07</td>\n",
       "      <td>0.096666</td>\n",
       "      <td>0.059504</td>\n",
       "      <td>1.630844</td>\n",
       "      <td>0.005790</td>\n",
       "      <td>0.000000</td>\n",
       "      <td>0.000000</td>\n",
       "    </tr>\n",
       "    <tr>\n",
       "      <td>50%</td>\n",
       "      <td>816.019266</td>\n",
       "      <td>813.608335</td>\n",
       "      <td>82.708594</td>\n",
       "      <td>14.425784</td>\n",
       "      <td>14.425275</td>\n",
       "      <td>5.939964</td>\n",
       "      <td>74.708813</td>\n",
       "      <td>7.600000</td>\n",
       "      <td>0.466667</td>\n",
       "      <td>10.203614</td>\n",
       "      <td>...</td>\n",
       "      <td>1.716107</td>\n",
       "      <td>2.317773e-01</td>\n",
       "      <td>8.643426</td>\n",
       "      <td>-1.109307e+06</td>\n",
       "      <td>0.162875</td>\n",
       "      <td>0.093536</td>\n",
       "      <td>2.944486</td>\n",
       "      <td>0.017340</td>\n",
       "      <td>0.000000</td>\n",
       "      <td>1.000000</td>\n",
       "    </tr>\n",
       "    <tr>\n",
       "      <td>75%</td>\n",
       "      <td>907.524817</td>\n",
       "      <td>900.568145</td>\n",
       "      <td>117.912508</td>\n",
       "      <td>17.976917</td>\n",
       "      <td>17.975643</td>\n",
       "      <td>7.946475</td>\n",
       "      <td>80.750069</td>\n",
       "      <td>13.133333</td>\n",
       "      <td>1.466667</td>\n",
       "      <td>12.714941</td>\n",
       "      <td>...</td>\n",
       "      <td>17.531453</td>\n",
       "      <td>9.181949e-01</td>\n",
       "      <td>8.986104</td>\n",
       "      <td>1.170531e+07</td>\n",
       "      <td>0.225817</td>\n",
       "      <td>0.136960</td>\n",
       "      <td>5.512633</td>\n",
       "      <td>0.043372</td>\n",
       "      <td>1.000000</td>\n",
       "      <td>2.000000</td>\n",
       "    </tr>\n",
       "    <tr>\n",
       "      <td>max</td>\n",
       "      <td>1322.016957</td>\n",
       "      <td>1653.122250</td>\n",
       "      <td>563.486949</td>\n",
       "      <td>26.629477</td>\n",
       "      <td>26.629392</td>\n",
       "      <td>54.523950</td>\n",
       "      <td>113.754253</td>\n",
       "      <td>39.400000</td>\n",
       "      <td>5.400000</td>\n",
       "      <td>18.836107</td>\n",
       "      <td>...</td>\n",
       "      <td>12664.594280</td>\n",
       "      <td>4.107285e+03</td>\n",
       "      <td>10.665564</td>\n",
       "      <td>1.444233e+12</td>\n",
       "      <td>8.509626</td>\n",
       "      <td>0.650805</td>\n",
       "      <td>881.163906</td>\n",
       "      <td>0.289905</td>\n",
       "      <td>2.000000</td>\n",
       "      <td>2.000000</td>\n",
       "    </tr>\n",
       "  </tbody>\n",
       "</table>\n",
       "<p>8 rows × 67 columns</p>\n",
       "</div>"
      ],
      "text/plain": [
       "             MEAN_RR      MEDIAN_RR           SDRR          RMSSD  \\\n",
       "count  352474.000000  352474.000000  352474.000000  352474.000000   \n",
       "mean      838.474161     834.060686     109.052370      14.979317   \n",
       "std       119.673432     128.724227      77.289341       4.155247   \n",
       "min       547.483802     517.293295      27.233947       5.529742   \n",
       "25%       757.424245     752.467675      64.034262      11.791692   \n",
       "50%       816.019266     813.608335      82.708594      14.425784   \n",
       "75%       907.524817     900.568145     117.912508      17.976917   \n",
       "max      1322.016957    1653.122250     563.486949      26.629477   \n",
       "\n",
       "                SDSD     SDRR_RMSSD             HR          pNN25  \\\n",
       "count  352474.000000  352474.000000  352474.000000  352474.000000   \n",
       "mean       14.978579       7.395047      74.589986       9.872043   \n",
       "std         4.155266       5.202027      10.071975       8.272959   \n",
       "min         5.529630       2.660381      48.736986       0.000000   \n",
       "25%        11.791217       4.488405      67.685208       3.666667   \n",
       "50%        14.425275       5.939964      74.708813       7.600000   \n",
       "75%        17.975643       7.946475      80.750069      13.133333   \n",
       "max        26.629392      54.523950     113.754253      39.400000   \n",
       "\n",
       "               pNN50            SD1  ...     SD1_BOXCOX   KURT_SQUARE  \\\n",
       "count  352474.000000  352474.000000  ...  352474.000000  3.524740e+05   \n",
       "mean        0.871194      10.594989  ...     402.359505  3.576022e+00   \n",
       "std         0.986410       2.939197  ...    1719.396930  3.219256e+01   \n",
       "min         0.000000       3.911344  ...       0.124982  7.720668e-11   \n",
       "25%         0.000000       8.340432  ...       0.730927  5.432918e-02   \n",
       "50%         0.466667      10.203614  ...       1.716107  2.317773e-01   \n",
       "75%         1.466667      12.714941  ...      17.531453  9.181949e-01   \n",
       "max         5.400000      18.836107  ...   12664.594280  4.107285e+03   \n",
       "\n",
       "             HR_SQRT  MEAN_RR_MEAN_MEAN_REL_RR         SD2_LF          HR_LF  \\\n",
       "count  352474.000000              3.524740e+05  352474.000000  352474.000000   \n",
       "mean        8.617103              7.549407e+06       0.233577       0.111791   \n",
       "std         0.579250              3.622634e+09       0.442579       0.076299   \n",
       "min         6.981188             -3.087910e+11       0.034754       0.021164   \n",
       "25%         8.227102             -1.146890e+07       0.096666       0.059504   \n",
       "50%         8.643426             -1.109307e+06       0.162875       0.093536   \n",
       "75%         8.986104              1.170531e+07       0.225817       0.136960   \n",
       "max        10.665564              1.444233e+12       8.509626       0.650805   \n",
       "\n",
       "               HR_HF         HF_VLF  Condition Label  NasaTLX Label  \n",
       "count  352474.000000  352474.000000    352474.000000  352474.000000  \n",
       "mean        6.390759       0.033403         0.632501       1.002298  \n",
       "std        26.486456       0.042141         0.762709       0.817129  \n",
       "min         0.261909       0.000037         0.000000       0.000000  \n",
       "25%         1.630844       0.005790         0.000000       0.000000  \n",
       "50%         2.944486       0.017340         0.000000       1.000000  \n",
       "75%         5.512633       0.043372         1.000000       2.000000  \n",
       "max       881.163906       0.289905         2.000000       2.000000  \n",
       "\n",
       "[8 rows x 67 columns]"
      ]
     },
     "execution_count": 7,
     "metadata": {},
     "output_type": "execute_result"
    }
   ],
   "source": [
    "df.describe()"
   ]
  },
  {
   "cell_type": "code",
   "execution_count": 8,
   "metadata": {},
   "outputs": [
    {
     "name": "stdout",
     "output_type": "stream",
     "text": [
      "<class 'pandas.core.frame.DataFrame'>\n",
      "Int64Index: 352474 entries, 0 to 39163\n",
      "Data columns (total 69 columns):\n",
      "MEAN_RR                     352474 non-null float64\n",
      "MEDIAN_RR                   352474 non-null float64\n",
      "SDRR                        352474 non-null float64\n",
      "RMSSD                       352474 non-null float64\n",
      "SDSD                        352474 non-null float64\n",
      "SDRR_RMSSD                  352474 non-null float64\n",
      "HR                          352474 non-null float64\n",
      "pNN25                       352474 non-null float64\n",
      "pNN50                       352474 non-null float64\n",
      "SD1                         352474 non-null float64\n",
      "SD2                         352474 non-null float64\n",
      "KURT                        352474 non-null float64\n",
      "SKEW                        352474 non-null float64\n",
      "MEAN_REL_RR                 352474 non-null float64\n",
      "MEDIAN_REL_RR               352474 non-null float64\n",
      "SDRR_REL_RR                 352474 non-null float64\n",
      "RMSSD_REL_RR                352474 non-null float64\n",
      "SDSD_REL_RR                 352474 non-null float64\n",
      "SDRR_RMSSD_REL_RR           352474 non-null float64\n",
      "KURT_REL_RR                 352474 non-null float64\n",
      "SKEW_REL_RR                 352474 non-null float64\n",
      "VLF                         352474 non-null float64\n",
      "VLF_PCT                     352474 non-null float64\n",
      "LF                          352474 non-null float64\n",
      "LF_PCT                      352474 non-null float64\n",
      "LF_NU                       352474 non-null float64\n",
      "HF                          352474 non-null float64\n",
      "HF_PCT                      352474 non-null float64\n",
      "HF_NU                       352474 non-null float64\n",
      "TP                          352474 non-null float64\n",
      "LF_HF                       352474 non-null float64\n",
      "HF_LF                       352474 non-null float64\n",
      "sampen                      352474 non-null float64\n",
      "higuci                      352474 non-null float64\n",
      "condition                   352474 non-null object\n",
      "subject_id                  352474 non-null int64\n",
      "MEAN_RR_LOG                 352474 non-null float64\n",
      "MEAN_RR_SQRT                352474 non-null float64\n",
      "TP_SQRT                     352474 non-null float64\n",
      "MEDIAN_REL_RR_LOG           352474 non-null float64\n",
      "RMSSD_REL_RR_LOG            352474 non-null float64\n",
      "SDSD_REL_RR_LOG             352474 non-null float64\n",
      "VLF_LOG                     352474 non-null float64\n",
      "LF_LOG                      352474 non-null float64\n",
      "HF_LOG                      352474 non-null float64\n",
      "TP_LOG                      352474 non-null float64\n",
      "LF_HF_LOG                   352474 non-null float64\n",
      "RMSSD_LOG                   352474 non-null float64\n",
      "SDRR_RMSSD_LOG              352474 non-null float64\n",
      "pNN25_LOG                   352474 non-null float64\n",
      "pNN50_LOG                   352474 non-null float64\n",
      "SD1_LOG                     352474 non-null float64\n",
      "KURT_YEO_JONSON             352474 non-null float64\n",
      "SKEW_YEO_JONSON             352474 non-null float64\n",
      "MEAN_REL_RR_YEO_JONSON      352474 non-null float64\n",
      "SKEW_REL_RR_YEO_JONSON      352474 non-null float64\n",
      "LF_BOXCOX                   352474 non-null float64\n",
      "HF_BOXCOX                   352474 non-null float64\n",
      "SD1_BOXCOX                  352474 non-null float64\n",
      "KURT_SQUARE                 352474 non-null float64\n",
      "HR_SQRT                     352474 non-null float64\n",
      "MEAN_RR_MEAN_MEAN_REL_RR    352474 non-null float64\n",
      "SD2_LF                      352474 non-null float64\n",
      "HR_LF                       352474 non-null float64\n",
      "HR_HF                       352474 non-null float64\n",
      "HF_VLF                      352474 non-null float64\n",
      "NasaTLX class               352474 non-null object\n",
      "Condition Label             352474 non-null int64\n",
      "NasaTLX Label               352474 non-null int64\n",
      "dtypes: float64(64), int64(3), object(2)\n",
      "memory usage: 188.2+ MB\n"
     ]
    }
   ],
   "source": [
    "df.info()"
   ]
  },
  {
   "cell_type": "code",
   "execution_count": 9,
   "metadata": {},
   "outputs": [
    {
     "data": {
      "text/plain": [
       "Index(['MEAN_RR', 'MEDIAN_RR', 'SDRR', 'RMSSD', 'SDSD', 'SDRR_RMSSD', 'HR',\n",
       "       'pNN25', 'pNN50', 'SD1', 'SD2', 'KURT', 'SKEW', 'MEAN_REL_RR',\n",
       "       'MEDIAN_REL_RR', 'SDRR_REL_RR', 'RMSSD_REL_RR', 'SDSD_REL_RR',\n",
       "       'SDRR_RMSSD_REL_RR', 'KURT_REL_RR', 'SKEW_REL_RR', 'VLF', 'VLF_PCT',\n",
       "       'LF', 'LF_PCT', 'LF_NU', 'HF', 'HF_PCT', 'HF_NU', 'TP', 'LF_HF',\n",
       "       'HF_LF', 'sampen', 'higuci', 'condition', 'subject_id', 'MEAN_RR_LOG',\n",
       "       'MEAN_RR_SQRT', 'TP_SQRT', 'MEDIAN_REL_RR_LOG', 'RMSSD_REL_RR_LOG',\n",
       "       'SDSD_REL_RR_LOG', 'VLF_LOG', 'LF_LOG', 'HF_LOG', 'TP_LOG', 'LF_HF_LOG',\n",
       "       'RMSSD_LOG', 'SDRR_RMSSD_LOG', 'pNN25_LOG', 'pNN50_LOG', 'SD1_LOG',\n",
       "       'KURT_YEO_JONSON', 'SKEW_YEO_JONSON', 'MEAN_REL_RR_YEO_JONSON',\n",
       "       'SKEW_REL_RR_YEO_JONSON', 'LF_BOXCOX', 'HF_BOXCOX', 'SD1_BOXCOX',\n",
       "       'KURT_SQUARE', 'HR_SQRT', 'MEAN_RR_MEAN_MEAN_REL_RR', 'SD2_LF', 'HR_LF',\n",
       "       'HR_HF', 'HF_VLF', 'NasaTLX class', 'Condition Label', 'NasaTLX Label'],\n",
       "      dtype='object')"
      ]
     },
     "execution_count": 9,
     "metadata": {},
     "output_type": "execute_result"
    }
   ],
   "source": [
    "df.columns"
   ]
  },
  {
   "cell_type": "code",
   "execution_count": 10,
   "metadata": {},
   "outputs": [
    {
     "data": {
      "text/plain": [
       "([1,\n",
       "  2,\n",
       "  3,\n",
       "  4,\n",
       "  5,\n",
       "  6,\n",
       "  7,\n",
       "  9,\n",
       "  10,\n",
       "  12,\n",
       "  13,\n",
       "  14,\n",
       "  16,\n",
       "  17,\n",
       "  18,\n",
       "  19,\n",
       "  20,\n",
       "  21,\n",
       "  22,\n",
       "  23,\n",
       "  24,\n",
       "  25],\n",
       " 22)"
      ]
     },
     "execution_count": 10,
     "metadata": {},
     "output_type": "execute_result"
    }
   ],
   "source": [
    "sorted(df['subject_id'].unique()), len(df['subject_id'].unique())"
   ]
  },
  {
   "cell_type": "code",
   "execution_count": 11,
   "metadata": {},
   "outputs": [],
   "source": [
    "# Participants 8, 11, 15 were been removed"
   ]
  },
  {
   "cell_type": "code",
   "execution_count": 12,
   "metadata": {},
   "outputs": [
    {
     "data": {
      "text/plain": [
       "array(['interruption', 'time pressure', 'no stress'], dtype=object)"
      ]
     },
     "execution_count": 12,
     "metadata": {},
     "output_type": "execute_result"
    }
   ],
   "source": [
    "df['condition'].unique()"
   ]
  },
  {
   "cell_type": "code",
   "execution_count": 13,
   "metadata": {},
   "outputs": [
    {
     "data": {
      "text/plain": [
       "array(['high', 'medium', 'low'], dtype=object)"
      ]
     },
     "execution_count": 13,
     "metadata": {},
     "output_type": "execute_result"
    }
   ],
   "source": [
    "df['NasaTLX class'].unique()"
   ]
  },
  {
   "cell_type": "code",
   "execution_count": 14,
   "metadata": {},
   "outputs": [
    {
     "data": {
      "text/plain": [
       "array([2, 1, 0])"
      ]
     },
     "execution_count": 14,
     "metadata": {},
     "output_type": "execute_result"
    }
   ],
   "source": [
    "df['NasaTLX Label'].unique()"
   ]
  },
  {
   "cell_type": "code",
   "execution_count": 15,
   "metadata": {},
   "outputs": [
    {
     "name": "stdout",
     "output_type": "stream",
     "text": [
      "4: 17552\n",
      "17: 16938\n",
      "18: 16764\n",
      "22: 13667\n",
      "10: 17662\n",
      "12: 17677\n",
      "14: 17702\n",
      "7: 15841\n",
      "21: 14925\n",
      "20: 13310\n",
      "24: 14571\n",
      "23: 12125\n",
      "13: 14558\n",
      "16: 19347\n",
      "6: 18776\n",
      "19: 17931\n",
      "9: 14320\n",
      "2: 17474\n",
      "1: 17312\n",
      "5: 16234\n",
      "3: 14411\n",
      "25: 13377\n"
     ]
    }
   ],
   "source": [
    "subjects = df['subject_id'].unique()\n",
    "for subject in subjects:\n",
    "    print(f\"{subject}: {len(df[df['subject_id'] == subject])}\")"
   ]
  },
  {
   "cell_type": "code",
   "execution_count": 20,
   "metadata": {},
   "outputs": [
    {
     "data": {
      "image/png": "[encoded data removed]",
      "text/plain": [
       "<Figure size 1440x1080 with 25 Axes>"
      ]
     },
     "metadata": {
      "needs_background": "light"
     },
     "output_type": "display_data"
    }
   ],
   "source": [
    "# Heart Rate Histogram\n",
    "\n",
    "fig, axs = plt.subplots(5, 5, figsize=(20, 15))\n",
    "for ax, subject in zip(axs.flatten(), subjects):\n",
    "    df[df['subject_id'] == subject]['HR'].hist(ax=ax)"
   ]
  },
  {
   "cell_type": "code",
   "execution_count": 21,
   "metadata": {},
   "outputs": [
    {
     "data": {
      "image/png": "[encoded data removed]",
      "text/plain": [
       "<Figure size 1440x1080 with 25 Axes>"
      ]
     },
     "metadata": {
      "needs_background": "light"
     },
     "output_type": "display_data"
    }
   ],
   "source": [
    "# RMSDD histogram\n",
    "\n",
    "fig, axs = plt.subplots(5, 5, figsize=(20, 15))\n",
    "for ax, subject in zip(axs.flatten(), subjects):\n",
    "    df[df['subject_id'] == subject]['RMSSD'].hist(ax=ax)"
   ]
  },
  {
   "cell_type": "code",
   "execution_count": 23,
   "metadata": {},
   "outputs": [
    {
     "data": {
      "text/html": [
       "<div>\n",
       "<style scoped>\n",
       "    .dataframe tbody tr th:only-of-type {\n",
       "        vertical-align: middle;\n",
       "    }\n",
       "\n",
       "    .dataframe tbody tr th {\n",
       "        vertical-align: top;\n",
       "    }\n",
       "\n",
       "    .dataframe thead th {\n",
       "        text-align: right;\n",
       "    }\n",
       "</style>\n",
       "<table border=\"1\" class=\"dataframe\">\n",
       "  <thead>\n",
       "    <tr style=\"text-align: right;\">\n",
       "      <th></th>\n",
       "      <th>condition</th>\n",
       "      <th>NasaTLX class</th>\n",
       "    </tr>\n",
       "  </thead>\n",
       "  <tbody>\n",
       "    <tr>\n",
       "      <td>814</td>\n",
       "      <td>time pressure</td>\n",
       "      <td>medium</td>\n",
       "    </tr>\n",
       "    <tr>\n",
       "      <td>824</td>\n",
       "      <td>interruption</td>\n",
       "      <td>medium</td>\n",
       "    </tr>\n",
       "    <tr>\n",
       "      <td>830</td>\n",
       "      <td>no stress</td>\n",
       "      <td>medium</td>\n",
       "    </tr>\n",
       "    <tr>\n",
       "      <td>866</td>\n",
       "      <td>no stress</td>\n",
       "      <td>medium</td>\n",
       "    </tr>\n",
       "    <tr>\n",
       "      <td>874</td>\n",
       "      <td>time pressure</td>\n",
       "      <td>medium</td>\n",
       "    </tr>\n",
       "    <tr>\n",
       "      <td>880</td>\n",
       "      <td>time pressure</td>\n",
       "      <td>medium</td>\n",
       "    </tr>\n",
       "    <tr>\n",
       "      <td>894</td>\n",
       "      <td>no stress</td>\n",
       "      <td>medium</td>\n",
       "    </tr>\n",
       "    <tr>\n",
       "      <td>902</td>\n",
       "      <td>time pressure</td>\n",
       "      <td>medium</td>\n",
       "    </tr>\n",
       "    <tr>\n",
       "      <td>906</td>\n",
       "      <td>no stress</td>\n",
       "      <td>medium</td>\n",
       "    </tr>\n",
       "    <tr>\n",
       "      <td>915</td>\n",
       "      <td>no stress</td>\n",
       "      <td>medium</td>\n",
       "    </tr>\n",
       "  </tbody>\n",
       "</table>\n",
       "</div>"
      ],
      "text/plain": [
       "         condition NasaTLX class\n",
       "814  time pressure        medium\n",
       "824   interruption        medium\n",
       "830      no stress        medium\n",
       "866      no stress        medium\n",
       "874  time pressure        medium\n",
       "880  time pressure        medium\n",
       "894      no stress        medium\n",
       "902  time pressure        medium\n",
       "906      no stress        medium\n",
       "915      no stress        medium"
      ]
     },
     "execution_count": 23,
     "metadata": {},
     "output_type": "execute_result"
    }
   ],
   "source": [
    "df[df['subject_id'] == 1][['condition', 'NasaTLX class']][40:50]"
   ]
  },
  {
   "cell_type": "code",
   "execution_count": 24,
   "metadata": {},
   "outputs": [
    {
     "data": {
      "text/html": [
       "<div>\n",
       "<style scoped>\n",
       "    .dataframe tbody tr th:only-of-type {\n",
       "        vertical-align: middle;\n",
       "    }\n",
       "\n",
       "    .dataframe tbody tr th {\n",
       "        vertical-align: top;\n",
       "    }\n",
       "\n",
       "    .dataframe thead th {\n",
       "        text-align: right;\n",
       "    }\n",
       "</style>\n",
       "<table border=\"1\" class=\"dataframe\">\n",
       "  <thead>\n",
       "    <tr style=\"text-align: right;\">\n",
       "      <th></th>\n",
       "      <th>MEAN_RR</th>\n",
       "      <th>MEDIAN_RR</th>\n",
       "      <th>SDRR</th>\n",
       "      <th>RMSSD</th>\n",
       "      <th>SDSD</th>\n",
       "      <th>SDRR_RMSSD</th>\n",
       "      <th>HR</th>\n",
       "      <th>pNN25</th>\n",
       "      <th>pNN50</th>\n",
       "      <th>SD1</th>\n",
       "      <th>...</th>\n",
       "      <th>KURT_SQUARE</th>\n",
       "      <th>HR_SQRT</th>\n",
       "      <th>MEAN_RR_MEAN_MEAN_REL_RR</th>\n",
       "      <th>SD2_LF</th>\n",
       "      <th>HR_LF</th>\n",
       "      <th>HR_HF</th>\n",
       "      <th>HF_VLF</th>\n",
       "      <th>NasaTLX class</th>\n",
       "      <th>Condition Label</th>\n",
       "      <th>NasaTLX Label</th>\n",
       "    </tr>\n",
       "  </thead>\n",
       "  <tbody>\n",
       "    <tr>\n",
       "      <td>0</td>\n",
       "      <td>1174.144734</td>\n",
       "      <td>1220.305100</td>\n",
       "      <td>146.274795</td>\n",
       "      <td>20.453938</td>\n",
       "      <td>20.453875</td>\n",
       "      <td>7.151424</td>\n",
       "      <td>52.018538</td>\n",
       "      <td>21.266667</td>\n",
       "      <td>1.933333</td>\n",
       "      <td>14.467900</td>\n",
       "      <td>...</td>\n",
       "      <td>0.099908</td>\n",
       "      <td>7.212388</td>\n",
       "      <td>2.199784e+07</td>\n",
       "      <td>0.153091</td>\n",
       "      <td>0.038591</td>\n",
       "      <td>43.650130</td>\n",
       "      <td>0.000447</td>\n",
       "      <td>high</td>\n",
       "      <td>1</td>\n",
       "      <td>2</td>\n",
       "    </tr>\n",
       "    <tr>\n",
       "      <td>1</td>\n",
       "      <td>895.342387</td>\n",
       "      <td>893.943175</td>\n",
       "      <td>56.174431</td>\n",
       "      <td>9.294380</td>\n",
       "      <td>9.294329</td>\n",
       "      <td>6.043914</td>\n",
       "      <td>67.278216</td>\n",
       "      <td>0.933333</td>\n",
       "      <td>0.000000</td>\n",
       "      <td>6.574276</td>\n",
       "      <td>...</td>\n",
       "      <td>0.203463</td>\n",
       "      <td>8.202330</td>\n",
       "      <td>2.879915e+07</td>\n",
       "      <td>0.241013</td>\n",
       "      <td>0.204811</td>\n",
       "      <td>6.144360</td>\n",
       "      <td>0.015995</td>\n",
       "      <td>high</td>\n",
       "      <td>1</td>\n",
       "      <td>2</td>\n",
       "    </tr>\n",
       "    <tr>\n",
       "      <td>2</td>\n",
       "      <td>764.218684</td>\n",
       "      <td>767.859965</td>\n",
       "      <td>77.160764</td>\n",
       "      <td>11.788299</td>\n",
       "      <td>11.787062</td>\n",
       "      <td>6.545539</td>\n",
       "      <td>79.342692</td>\n",
       "      <td>3.066667</td>\n",
       "      <td>0.000000</td>\n",
       "      <td>8.337493</td>\n",
       "      <td>...</td>\n",
       "      <td>0.138674</td>\n",
       "      <td>8.907452</td>\n",
       "      <td>-3.266219e+06</td>\n",
       "      <td>0.155760</td>\n",
       "      <td>0.113586</td>\n",
       "      <td>3.932715</td>\n",
       "      <td>0.013721</td>\n",
       "      <td>medium</td>\n",
       "      <td>1</td>\n",
       "      <td>1</td>\n",
       "    </tr>\n",
       "    <tr>\n",
       "      <td>3</td>\n",
       "      <td>854.776805</td>\n",
       "      <td>830.149445</td>\n",
       "      <td>84.950716</td>\n",
       "      <td>10.797540</td>\n",
       "      <td>10.796497</td>\n",
       "      <td>7.867599</td>\n",
       "      <td>70.867408</td>\n",
       "      <td>2.733333</td>\n",
       "      <td>0.200000</td>\n",
       "      <td>7.636824</td>\n",
       "      <td>...</td>\n",
       "      <td>0.698643</td>\n",
       "      <td>8.418278</td>\n",
       "      <td>-5.553280e+06</td>\n",
       "      <td>0.223233</td>\n",
       "      <td>0.131948</td>\n",
       "      <td>4.348861</td>\n",
       "      <td>0.033438</td>\n",
       "      <td>low</td>\n",
       "      <td>2</td>\n",
       "      <td>0</td>\n",
       "    </tr>\n",
       "    <tr>\n",
       "      <td>4</td>\n",
       "      <td>1093.290552</td>\n",
       "      <td>1121.317600</td>\n",
       "      <td>145.395568</td>\n",
       "      <td>17.550094</td>\n",
       "      <td>17.550090</td>\n",
       "      <td>8.284603</td>\n",
       "      <td>55.994337</td>\n",
       "      <td>16.066667</td>\n",
       "      <td>0.933333</td>\n",
       "      <td>12.413929</td>\n",
       "      <td>...</td>\n",
       "      <td>0.058267</td>\n",
       "      <td>7.482936</td>\n",
       "      <td>-6.849979e+07</td>\n",
       "      <td>0.215492</td>\n",
       "      <td>0.058790</td>\n",
       "      <td>33.929483</td>\n",
       "      <td>0.000479</td>\n",
       "      <td>medium</td>\n",
       "      <td>2</td>\n",
       "      <td>1</td>\n",
       "    </tr>\n",
       "  </tbody>\n",
       "</table>\n",
       "<p>5 rows × 69 columns</p>\n",
       "</div>"
      ],
      "text/plain": [
       "       MEAN_RR    MEDIAN_RR        SDRR      RMSSD       SDSD  SDRR_RMSSD  \\\n",
       "0  1174.144734  1220.305100  146.274795  20.453938  20.453875    7.151424   \n",
       "1   895.342387   893.943175   56.174431   9.294380   9.294329    6.043914   \n",
       "2   764.218684   767.859965   77.160764  11.788299  11.787062    6.545539   \n",
       "3   854.776805   830.149445   84.950716  10.797540  10.796497    7.867599   \n",
       "4  1093.290552  1121.317600  145.395568  17.550094  17.550090    8.284603   \n",
       "\n",
       "          HR      pNN25     pNN50        SD1  ...  KURT_SQUARE   HR_SQRT  \\\n",
       "0  52.018538  21.266667  1.933333  14.467900  ...     0.099908  7.212388   \n",
       "1  67.278216   0.933333  0.000000   6.574276  ...     0.203463  8.202330   \n",
       "2  79.342692   3.066667  0.000000   8.337493  ...     0.138674  8.907452   \n",
       "3  70.867408   2.733333  0.200000   7.636824  ...     0.698643  8.418278   \n",
       "4  55.994337  16.066667  0.933333  12.413929  ...     0.058267  7.482936   \n",
       "\n",
       "   MEAN_RR_MEAN_MEAN_REL_RR    SD2_LF     HR_LF      HR_HF    HF_VLF  \\\n",
       "0              2.199784e+07  0.153091  0.038591  43.650130  0.000447   \n",
       "1              2.879915e+07  0.241013  0.204811   6.144360  0.015995   \n",
       "2             -3.266219e+06  0.155760  0.113586   3.932715  0.013721   \n",
       "3             -5.553280e+06  0.223233  0.131948   4.348861  0.033438   \n",
       "4             -6.849979e+07  0.215492  0.058790  33.929483  0.000479   \n",
       "\n",
       "   NasaTLX class  Condition Label  NasaTLX Label  \n",
       "0           high                1              2  \n",
       "1           high                1              2  \n",
       "2         medium                1              1  \n",
       "3            low                2              0  \n",
       "4         medium                2              1  \n",
       "\n",
       "[5 rows x 69 columns]"
      ]
     },
     "execution_count": 24,
     "metadata": {},
     "output_type": "execute_result"
    }
   ],
   "source": [
    "df.head()"
   ]
  },
  {
   "cell_type": "code",
   "execution_count": null,
   "metadata": {},
   "outputs": [],
   "source": [
    "columns_to_drop = ['subject_id', 'HR', 'condition', 'Condition Label', 'NasaTLX class', 'NasaTLX Label']\n",
    "main_columns_to_keep = ['MEAN_RR', 'MEDIAN_RR', 'SDRR', 'RMSSD', 'SDSD', 'SDRR_RMSSD', 'HR',\n",
    "       'pNN25', 'pNN50']\n",
    "# Index(['MEAN_RR', 'MEDIAN_RR', 'SDRR', 'RMSSD', 'SDSD', 'SDRR_RMSSD', 'HR',\n",
    "#        'pNN25', 'pNN50', 'SD1', 'SD2', 'KURT', 'SKEW', 'MEAN_REL_RR',\n",
    "#        'MEDIAN_REL_RR', 'SDRR_REL_RR', 'RMSSD_REL_RR', 'SDSD_REL_RR',\n",
    "#        'SDRR_RMSSD_REL_RR', 'KURT_REL_RR', 'SKEW_REL_RR', 'VLF', 'VLF_PCT',\n",
    "#        'LF', 'LF_PCT', 'LF_NU', 'HF', 'HF_PCT', 'HF_NU', 'TP', 'LF_HF',\n",
    "#        'HF_LF', 'sampen', 'higuci', 'condition', 'subject_id', 'MEAN_RR_LOG',\n",
    "#        'MEAN_RR_SQRT', 'TP_SQRT', 'MEDIAN_REL_RR_LOG', 'RMSSD_REL_RR_LOG',\n",
    "#        'SDSD_REL_RR_LOG', 'VLF_LOG', 'LF_LOG', 'HF_LOG', 'TP_LOG', 'LF_HF_LOG',\n",
    "#        'RMSSD_LOG', 'SDRR_RMSSD_LOG', 'pNN25_LOG', 'pNN50_LOG', 'SD1_LOG',\n",
    "#        'KURT_YEO_JONSON', 'SKEW_YEO_JONSON', 'MEAN_REL_RR_YEO_JONSON',\n",
    "#        'SKEW_REL_RR_YEO_JONSON', 'LF_BOXCOX', 'HF_BOXCOX', 'SD1_BOXCOX',\n",
    "#        'KURT_SQUARE', 'HR_SQRT', 'MEAN_RR_MEAN_MEAN_REL_RR', 'SD2_LF', 'HR_LF',\n",
    "#        'HR_HF', 'HF_VLF', 'NasaTLX class', 'Condition Label', 'NasaTLX Label'],\n",
    "#       dtype='object')"
   ]
  },
  {
   "cell_type": "code",
   "execution_count": 25,
   "metadata": {},
   "outputs": [],
   "source": [
    "# Using just HR to predict stress \n",
    "X = df['HR'].values.reshape(-1, 1)\n",
    "y = df['NasaTLX Label'].values"
   ]
  },
  {
   "cell_type": "code",
   "execution_count": 26,
   "metadata": {},
   "outputs": [],
   "source": [
    "X_train, X_test, y_train, y_test = train_test_split(X, y)"
   ]
  },
  {
   "cell_type": "code",
   "execution_count": 66,
   "metadata": {},
   "outputs": [],
   "source": [
    "rf = RandomForestClassifier()\n",
    "rf_grid = {'n_estimators': [100, 250, 500], \n",
    "           'max_depth': [2, 3]}"
   ]
  },
  {
   "cell_type": "code",
   "execution_count": 22,
   "metadata": {},
   "outputs": [
    {
     "name": "stderr",
     "output_type": "stream",
     "text": [
      "/Users/sachin/opt/anaconda3/lib/python3.7/site-packages/sklearn/model_selection/_split.py:1978: FutureWarning: The default value of cv will change from 3 to 5 in version 0.22. Specify it explicitly to silence this warning.\n",
      "  warnings.warn(CV_WARNING, FutureWarning)\n"
     ]
    },
    {
     "data": {
      "text/plain": [
       "GridSearchCV(cv='warn', error_score='raise-deprecating',\n",
       "             estimator=RandomForestClassifier(bootstrap=True, class_weight=None,\n",
       "                                              criterion='gini', max_depth=None,\n",
       "                                              max_features='auto',\n",
       "                                              max_leaf_nodes=None,\n",
       "                                              min_impurity_decrease=0.0,\n",
       "                                              min_impurity_split=None,\n",
       "                                              min_samples_leaf=1,\n",
       "                                              min_samples_split=2,\n",
       "                                              min_weight_fraction_leaf=0.0,\n",
       "                                              n_estimators='warn', n_jobs=None,\n",
       "                                              oob_score=False,\n",
       "                                              random_state=None, verbose=0,\n",
       "                                              warm_start=False),\n",
       "             iid='warn', n_jobs=None,\n",
       "             param_grid={'max_depth': [None], 'n_estimators': [100]},\n",
       "             pre_dispatch='2*n_jobs', refit=True, return_train_score=False,\n",
       "             scoring=None, verbose=0)"
      ]
     },
     "execution_count": 22,
     "metadata": {},
     "output_type": "execute_result"
    }
   ],
   "source": [
    "clf = GridSearchCV(rf, rf_grid)\n",
    "clf.fit(X_train, y_train)"
   ]
  },
  {
   "cell_type": "code",
   "execution_count": 24,
   "metadata": {},
   "outputs": [],
   "source": [
    "predictions_a = clf.predict(X_test)"
   ]
  },
  {
   "cell_type": "code",
   "execution_count": 26,
   "metadata": {},
   "outputs": [
    {
     "data": {
      "text/plain": [
       "0.4313939105073821"
      ]
     },
     "execution_count": 26,
     "metadata": {},
     "output_type": "execute_result"
    }
   ],
   "source": [
    "accuracy_score(y_test, predictions_a)"
   ]
  },
  {
   "cell_type": "code",
   "execution_count": 29,
   "metadata": {},
   "outputs": [],
   "source": [
    "# Using just HR to predict stress \n",
    "X2 = df[main_columns_to_keep]\n",
    "y2 = df['NasaTLX Label'].values"
   ]
  },
  {
   "cell_type": "code",
   "execution_count": 30,
   "metadata": {},
   "outputs": [],
   "source": [
    "X_train, X_test, y_train, y_test = train_test_split(X2, y2)"
   ]
  },
  {
   "cell_type": "code",
   "execution_count": 31,
   "metadata": {},
   "outputs": [
    {
     "name": "stderr",
     "output_type": "stream",
     "text": [
      "/Users/sachin/opt/anaconda3/lib/python3.7/site-packages/sklearn/model_selection/_split.py:1978: FutureWarning: The default value of cv will change from 3 to 5 in version 0.22. Specify it explicitly to silence this warning.\n",
      "  warnings.warn(CV_WARNING, FutureWarning)\n"
     ]
    },
    {
     "data": {
      "text/plain": [
       "GridSearchCV(cv='warn', error_score='raise-deprecating',\n",
       "             estimator=RandomForestClassifier(bootstrap=True, class_weight=None,\n",
       "                                              criterion='gini', max_depth=None,\n",
       "                                              max_features='auto',\n",
       "                                              max_leaf_nodes=None,\n",
       "                                              min_impurity_decrease=0.0,\n",
       "                                              min_impurity_split=None,\n",
       "                                              min_samples_leaf=1,\n",
       "                                              min_samples_split=2,\n",
       "                                              min_weight_fraction_leaf=0.0,\n",
       "                                              n_estimators='warn', n_jobs=None,\n",
       "                                              oob_score=False,\n",
       "                                              random_state=None, verbose=0,\n",
       "                                              warm_start=False),\n",
       "             iid='warn', n_jobs=None,\n",
       "             param_grid={'max_depth': [None], 'n_estimators': [100]},\n",
       "             pre_dispatch='2*n_jobs', refit=True, return_train_score=False,\n",
       "             scoring=None, verbose=0)"
      ]
     },
     "execution_count": 31,
     "metadata": {},
     "output_type": "execute_result"
    }
   ],
   "source": [
    "rf_grid = {'n_estimators': [100], \n",
    "           'max_depth': [None]}\n",
    "clf2 = GridSearchCV(rf, rf_grid)\n",
    "clf2.fit(X_train, y_train)"
   ]
  },
  {
   "cell_type": "code",
   "execution_count": 32,
   "metadata": {},
   "outputs": [
    {
     "data": {
      "text/plain": [
       "0.9999205619673396"
      ]
     },
     "execution_count": 32,
     "metadata": {},
     "output_type": "execute_result"
    }
   ],
   "source": [
    "accuracy_score(y_test, clf2.predict(X_test))"
   ]
  },
  {
   "cell_type": "code",
   "execution_count": 31,
   "metadata": {},
   "outputs": [],
   "source": [
    "X3 = df[['HR', 'RMSSD']]\n",
    "y3 = df['NasaTLX Label'].values\n",
    "X_train, X_test, y_train, y_test = train_test_split(X3, y3)"
   ]
  },
  {
   "cell_type": "code",
   "execution_count": 32,
   "metadata": {},
   "outputs": [
    {
     "name": "stderr",
     "output_type": "stream",
     "text": [
      "/Users/sachin/opt/anaconda3/lib/python3.7/site-packages/sklearn/model_selection/_split.py:1978: FutureWarning: The default value of cv will change from 3 to 5 in version 0.22. Specify it explicitly to silence this warning.\n",
      "  warnings.warn(CV_WARNING, FutureWarning)\n"
     ]
    },
    {
     "data": {
      "text/plain": [
       "GridSearchCV(cv='warn', error_score='raise-deprecating',\n",
       "             estimator=RandomForestClassifier(bootstrap=True, class_weight=None,\n",
       "                                              criterion='gini', max_depth=None,\n",
       "                                              max_features='auto',\n",
       "                                              max_leaf_nodes=None,\n",
       "                                              min_impurity_decrease=0.0,\n",
       "                                              min_impurity_split=None,\n",
       "                                              min_samples_leaf=1,\n",
       "                                              min_samples_split=2,\n",
       "                                              min_weight_fraction_leaf=0.0,\n",
       "                                              n_estimators='warn', n_jobs=None,\n",
       "                                              oob_score=False,\n",
       "                                              random_state=None, verbose=0,\n",
       "                                              warm_start=False),\n",
       "             iid='warn', n_jobs=None,\n",
       "             param_grid={'max_depth': [None], 'n_estimators': [100]},\n",
       "             pre_dispatch='2*n_jobs', refit=True, return_train_score=False,\n",
       "             scoring=None, verbose=0)"
      ]
     },
     "execution_count": 32,
     "metadata": {},
     "output_type": "execute_result"
    }
   ],
   "source": [
    "clf3 = GridSearchCV(rf, rf_grid)\n",
    "clf3.fit(X_train, y_train)"
   ]
  },
  {
   "cell_type": "code",
   "execution_count": 33,
   "metadata": {},
   "outputs": [
    {
     "data": {
      "text/plain": [
       "0.9340777811822649"
      ]
     },
     "execution_count": 33,
     "metadata": {},
     "output_type": "execute_result"
    }
   ],
   "source": [
    "accuracy_score(y_test, clf3.predict(X_test))"
   ]
  },
  {
   "cell_type": "code",
   "execution_count": 34,
   "metadata": {},
   "outputs": [
    {
     "name": "stderr",
     "output_type": "stream",
     "text": [
      "/Users/sachin/opt/anaconda3/lib/python3.7/site-packages/sklearn/model_selection/_split.py:1978: FutureWarning: The default value of cv will change from 3 to 5 in version 0.22. Specify it explicitly to silence this warning.\n",
      "  warnings.warn(CV_WARNING, FutureWarning)\n"
     ]
    },
    {
     "data": {
      "text/plain": [
       "GridSearchCV(cv='warn', error_score='raise-deprecating',\n",
       "             estimator=RandomForestClassifier(bootstrap=True, class_weight=None,\n",
       "                                              criterion='gini', max_depth=None,\n",
       "                                              max_features='auto',\n",
       "                                              max_leaf_nodes=None,\n",
       "                                              min_impurity_decrease=0.0,\n",
       "                                              min_impurity_split=None,\n",
       "                                              min_samples_leaf=1,\n",
       "                                              min_samples_split=2,\n",
       "                                              min_weight_fraction_leaf=0.0,\n",
       "                                              n_estimators='warn', n_jobs=None,\n",
       "                                              oob_score=False,\n",
       "                                              random_state=None, verbose=0,\n",
       "                                              warm_start=False),\n",
       "             iid='warn', n_jobs=None,\n",
       "             param_grid={'max_depth': [None], 'n_estimators': [100]},\n",
       "             pre_dispatch='2*n_jobs', refit=True, return_train_score=False,\n",
       "             scoring=None, verbose=0)"
      ]
     },
     "execution_count": 34,
     "metadata": {},
     "output_type": "execute_result"
    }
   ],
   "source": [
    "X4 = df[['RMSSD']]\n",
    "y4 = df['NasaTLX Label'].values\n",
    "X_train, X_test, y_train, y_test = train_test_split(X4, y4)\n",
    "clf4 = GridSearchCV(rf, rf_grid)\n",
    "clf4.fit(X_train, y_train)"
   ]
  },
  {
   "cell_type": "code",
   "execution_count": 35,
   "metadata": {},
   "outputs": [
    {
     "data": {
      "text/plain": [
       "0.4089356438452547"
      ]
     },
     "execution_count": 35,
     "metadata": {},
     "output_type": "execute_result"
    }
   ],
   "source": [
    "accuracy_score(y_test, clf4.predict(X_test))"
   ]
  },
  {
   "cell_type": "code",
   "execution_count": 67,
   "metadata": {},
   "outputs": [
    {
     "name": "stderr",
     "output_type": "stream",
     "text": [
      "/Users/sachin/opt/anaconda3/lib/python3.7/site-packages/sklearn/model_selection/_split.py:1978: FutureWarning: The default value of cv will change from 3 to 5 in version 0.22. Specify it explicitly to silence this warning.\n",
      "  warnings.warn(CV_WARNING, FutureWarning)\n"
     ]
    },
    {
     "data": {
      "text/plain": [
       "GridSearchCV(cv='warn', error_score='raise-deprecating',\n",
       "             estimator=RandomForestClassifier(bootstrap=True, class_weight=None,\n",
       "                                              criterion='gini', max_depth=None,\n",
       "                                              max_features='auto',\n",
       "                                              max_leaf_nodes=None,\n",
       "                                              min_impurity_decrease=0.0,\n",
       "                                              min_impurity_split=None,\n",
       "                                              min_samples_leaf=1,\n",
       "                                              min_samples_split=2,\n",
       "                                              min_weight_fraction_leaf=0.0,\n",
       "                                              n_estimators='warn', n_jobs=None,\n",
       "                                              oob_score=False,\n",
       "                                              random_state=None, verbose=0,\n",
       "                                              warm_start=False),\n",
       "             iid='warn', n_jobs=None,\n",
       "             param_grid={'max_depth': [2, 3], 'n_estimators': [100, 250, 500]},\n",
       "             pre_dispatch='2*n_jobs', refit=True, return_train_score=False,\n",
       "             scoring=None, verbose=0)"
      ]
     },
     "execution_count": 67,
     "metadata": {},
     "output_type": "execute_result"
    }
   ],
   "source": [
    "X5 = df[df['subject_id'] != 2]\n",
    "X5 = X5[['MEAN_RR', 'MEDIAN_RR', 'SDRR', 'RMSSD', 'SDSD', 'SDRR_RMSSD', 'pNN25', 'pNN50']]\n",
    "X5 = StandardScaler().fit_transform(X)\n",
    "y5 = df[df['subject_id'] != 2]['NasaTLX Label'].values\n",
    "X_train, X_test, y_train, y_test = train_test_split(X5, y5)\n",
    "\n",
    "clf5 = GridSearchCV(rf, rf_grid)\n",
    "clf5.fit(X_train, y_train)"
   ]
  },
  {
   "cell_type": "code",
   "execution_count": 68,
   "metadata": {},
   "outputs": [],
   "source": [
    "X5_test = df[df['subject_id'] == 2][['MEAN_RR', 'MEDIAN_RR', 'SDRR', 'RMSSD', 'SDSD', 'SDRR_RMSSD', 'pNN25', 'pNN50']]\n",
    "y5_test = df[df['subject_id'] == 2]['NasaTLX Label'].values"
   ]
  },
  {
   "cell_type": "code",
   "execution_count": 69,
   "metadata": {},
   "outputs": [
    {
     "data": {
      "text/plain": [
       "0.06638434245164244"
      ]
     },
     "execution_count": 69,
     "metadata": {},
     "output_type": "execute_result"
    }
   ],
   "source": [
    "accuracy_score(y5_test, clf5.predict(X5_test))"
   ]
  },
  {
   "cell_type": "code",
   "execution_count": 54,
   "metadata": {},
   "outputs": [
    {
     "data": {
      "text/plain": [
       "[('RMSSD', 0.08971317420469205),\n",
       " ('SDSD', 0.09101319531207187),\n",
       " ('pNN25', 0.11429151586122677),\n",
       " ('pNN50', 0.11606364344678372),\n",
       " ('SDRR', 0.11915799215764332),\n",
       " ('SDRR_RMSSD', 0.13456766935603315),\n",
       " ('MEAN_RR', 0.15821351277481768),\n",
       " ('MEDIAN_RR', 0.17697929688673153)]"
      ]
     },
     "execution_count": 54,
     "metadata": {},
     "output_type": "execute_result"
    }
   ],
   "source": [
    "sorted(list(zip(X5, clf5.best_estimator_.feature_importances_)), key=lambda x: x[1])"
   ]
  },
  {
   "cell_type": "code",
   "execution_count": 37,
   "metadata": {},
   "outputs": [
    {
     "data": {
      "text/plain": [
       "0.9999659551288599"
      ]
     },
     "execution_count": 37,
     "metadata": {},
     "output_type": "execute_result"
    }
   ],
   "source": [
    "accuracy_score(y_test, clf5.predict(X_test))"
   ]
  },
  {
   "cell_type": "code",
   "execution_count": 56,
   "metadata": {},
   "outputs": [
    {
     "data": {
      "text/plain": [
       "'              precision    recall  f1-score   support\\n\\n           0       1.00      1.00      1.00     29421\\n           1       1.00      1.00      1.00     29430\\n           2       1.00      1.00      1.00     29268\\n\\n    accuracy                           1.00     88119\\n   macro avg       1.00      1.00      1.00     88119\\nweighted avg       1.00      1.00      1.00     88119\\n'"
      ]
     },
     "execution_count": 56,
     "metadata": {},
     "output_type": "execute_result"
    }
   ],
   "source": [
    "classification_report(y_test, clf5.predict(X_test))"
   ]
  },
  {
   "cell_type": "code",
   "execution_count": 45,
   "metadata": {},
   "outputs": [
    {
     "data": {
      "text/plain": [
       "<matplotlib.axes._subplots.AxesSubplot at 0x1a21404dd0>"
      ]
     },
     "execution_count": 45,
     "metadata": {},
     "output_type": "execute_result"
    },
    {
     "data": {
      "image/png": "[encoded data removed]",
      "text/plain": [
       "<Figure size 720x720 with 2 Axes>"
      ]
     },
     "metadata": {
      "needs_background": "light"
     },
     "output_type": "display_data"
    }
   ],
   "source": [
    "fig, ax = plt.subplots(figsize=(10, 10))\n",
    "skplt.metrics.plot_confusion_matrix(y_test, clf5.predict(X_test), normalize=True, ax=ax)"
   ]
  },
  {
   "cell_type": "code",
   "execution_count": 48,
   "metadata": {},
   "outputs": [
    {
     "data": {
      "text/plain": [
       "<matplotlib.axes._subplots.AxesSubplot at 0x1a233e33d0>"
      ]
     },
     "execution_count": 48,
     "metadata": {},
     "output_type": "execute_result"
    },
    {
     "data": {
      "image/png": "[encoded data removed]",
      "text/plain": [
       "<Figure size 720x720 with 1 Axes>"
      ]
     },
     "metadata": {
      "needs_background": "light"
     },
     "output_type": "display_data"
    }
   ],
   "source": [
    "fig, ax = plt.subplots(figsize=(10, 10))\n",
    "skplt.metrics.plot_roc(y_test, clf5.predict_proba(X_test), ax=ax)"
   ]
  },
  {
   "cell_type": "code",
   "execution_count": 49,
   "metadata": {},
   "outputs": [
    {
     "data": {
      "text/plain": [
       "<matplotlib.axes._subplots.AxesSubplot at 0x1a21e072d0>"
      ]
     },
     "execution_count": 49,
     "metadata": {},
     "output_type": "execute_result"
    },
    {
     "data": {
      "image/png": "[encoded data removed]",
      "text/plain": [
       "<Figure size 720x720 with 1 Axes>"
      ]
     },
     "metadata": {
      "needs_background": "light"
     },
     "output_type": "display_data"
    }
   ],
   "source": [
    "fig, ax = plt.subplots(figsize=(10, 10))\n",
    "skplt.metrics.plot_precision_recall(y_test, clf5.predict_proba(X_test), ax=ax)"
   ]
  },
  {
   "cell_type": "code",
   "execution_count": 86,
   "metadata": {},
   "outputs": [],
   "source": [
    "# fig, ax = plt.subplots(figsize=(15, 10))\n",
    "# for i in df['subject_id'].unique():\n",
    "#     mean = df[(df['subject_id'] == i) & (df['condition'] == 'no stress')]['HR'].mean()\n",
    "#     ax.bar(i, mean, label=i)\n",
    "#     ax.legend()"
   ]
  },
  {
   "cell_type": "code",
   "execution_count": 77,
   "metadata": {},
   "outputs": [
    {
     "data": {
      "text/plain": [
       "0        False\n",
       "1        False\n",
       "2        False\n",
       "3        False\n",
       "4        False\n",
       "         ...  \n",
       "39159    False\n",
       "39160     True\n",
       "39161     True\n",
       "39162    False\n",
       "39163     True\n",
       "Name: condition, Length: 352474, dtype: bool"
      ]
     },
     "execution_count": 77,
     "metadata": {},
     "output_type": "execute_result"
    }
   ],
   "source": [
    "df['condition'] == 'no stress'"
   ]
  },
  {
   "cell_type": "code",
   "execution_count": null,
   "metadata": {},
   "outputs": [],
   "source": []
  }
 ],
 "metadata": {
  "kernelspec": {
   "display_name": "Python 3",
   "language": "python",
   "name": "python3"
  },
  "language_info": {
   "codemirror_mode": {
    "name": "ipython",
    "version": 3
   },
   "file_extension": ".py",
   "mimetype": "text/x-python",
   "name": "python",
   "nbconvert_exporter": "python",
   "pygments_lexer": "ipython3",
   "version": "3.7.4"
  }
 },
 "nbformat": 4,
 "nbformat_minor": 2
}
