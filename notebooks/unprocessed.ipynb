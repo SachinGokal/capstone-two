{
 "cells": [
  {
   "cell_type": "code",
   "execution_count": 111,
   "metadata": {},
   "outputs": [],
   "source": [
    "import numpy as np\n",
    "import pandas as pd\n",
    "import matplotlib.pyplot as plt\n",
    "from sklearn.ensemble import GradientBoostingRegressor, RandomForestClassifier\n",
    "from sklearn.model_selection import train_test_split, GridSearchCV"
   ]
  },
  {
   "cell_type": "code",
   "execution_count": 112,
   "metadata": {},
   "outputs": [],
   "source": [
    "df = pd.read_csv('../data/unprocessed/unprocessed.csv'"
   ]
  },
  {
   "cell_type": "code",
   "execution_count": 113,
   "metadata": {},
   "outputs": [
    {
     "name": "stdout",
     "output_type": "stream",
     "text": [
      "<class 'pandas.core.frame.DataFrame'>\n",
      "RangeIndex: 3164 entries, 0 to 3163\n",
      "Data columns (total 12 columns):\n",
      "Unnamed: 0     3140 non-null float64\n",
      "PP             3164 non-null object\n",
      "C              3164 non-null object\n",
      "timestamp      3164 non-null object\n",
      "HR             1514 non-null object\n",
      "RMSSD          1514 non-null object\n",
      "SCL            2602 non-null object\n",
      "date           3164 non-null object\n",
      "subject        3164 non-null object\n",
      "label          3164 non-null object\n",
      "Condition      3164 non-null object\n",
      "ElapsedTime    3164 non-null object\n",
      "dtypes: float64(1), object(11)\n",
      "memory usage: 296.8+ KB\n"
     ]
    }
   ],
   "source": [
    "df.info()"
   ]
  },
  {
   "cell_type": "code",
   "execution_count": null,
   "metadata": {},
   "outputs": [],
   "source": [
    "# Labels: 'rest', 'no stress', 'time pressure', 'interruption'"
   ]
  },
  {
   "cell_type": "code",
   "execution_count": 114,
   "metadata": {},
   "outputs": [
    {
     "data": {
      "text/html": [
       "<div>\n",
       "<style scoped>\n",
       "    .dataframe tbody tr th:only-of-type {\n",
       "        vertical-align: middle;\n",
       "    }\n",
       "\n",
       "    .dataframe tbody tr th {\n",
       "        vertical-align: top;\n",
       "    }\n",
       "\n",
       "    .dataframe thead th {\n",
       "        text-align: right;\n",
       "    }\n",
       "</style>\n",
       "<table border=\"1\" class=\"dataframe\">\n",
       "  <thead>\n",
       "    <tr style=\"text-align: right;\">\n",
       "      <th></th>\n",
       "      <th>Unnamed: 0</th>\n",
       "    </tr>\n",
       "  </thead>\n",
       "  <tbody>\n",
       "    <tr>\n",
       "      <td>count</td>\n",
       "      <td>3140.000000</td>\n",
       "    </tr>\n",
       "    <tr>\n",
       "      <td>mean</td>\n",
       "      <td>1569.500000</td>\n",
       "    </tr>\n",
       "    <tr>\n",
       "      <td>std</td>\n",
       "      <td>906.584249</td>\n",
       "    </tr>\n",
       "    <tr>\n",
       "      <td>min</td>\n",
       "      <td>0.000000</td>\n",
       "    </tr>\n",
       "    <tr>\n",
       "      <td>25%</td>\n",
       "      <td>784.750000</td>\n",
       "    </tr>\n",
       "    <tr>\n",
       "      <td>50%</td>\n",
       "      <td>1569.500000</td>\n",
       "    </tr>\n",
       "    <tr>\n",
       "      <td>75%</td>\n",
       "      <td>2354.250000</td>\n",
       "    </tr>\n",
       "    <tr>\n",
       "      <td>max</td>\n",
       "      <td>3139.000000</td>\n",
       "    </tr>\n",
       "  </tbody>\n",
       "</table>\n",
       "</div>"
      ],
      "text/plain": [
       "        Unnamed: 0\n",
       "count  3140.000000\n",
       "mean   1569.500000\n",
       "std     906.584249\n",
       "min       0.000000\n",
       "25%     784.750000\n",
       "50%    1569.500000\n",
       "75%    2354.250000\n",
       "max    3139.000000"
      ]
     },
     "execution_count": 114,
     "metadata": {},
     "output_type": "execute_result"
    }
   ],
   "source": [
    "df.describe()"
   ]
  },
  {
   "cell_type": "code",
   "execution_count": 115,
   "metadata": {},
   "outputs": [
    {
     "data": {
      "text/html": [
       "<div>\n",
       "<style scoped>\n",
       "    .dataframe tbody tr th:only-of-type {\n",
       "        vertical-align: middle;\n",
       "    }\n",
       "\n",
       "    .dataframe tbody tr th {\n",
       "        vertical-align: top;\n",
       "    }\n",
       "\n",
       "    .dataframe thead th {\n",
       "        text-align: right;\n",
       "    }\n",
       "</style>\n",
       "<table border=\"1\" class=\"dataframe\">\n",
       "  <thead>\n",
       "    <tr style=\"text-align: right;\">\n",
       "      <th></th>\n",
       "      <th>Unnamed: 0</th>\n",
       "      <th>PP</th>\n",
       "      <th>C</th>\n",
       "      <th>timestamp</th>\n",
       "      <th>HR</th>\n",
       "      <th>RMSSD</th>\n",
       "      <th>SCL</th>\n",
       "      <th>date</th>\n",
       "      <th>subject</th>\n",
       "      <th>label</th>\n",
       "      <th>Condition</th>\n",
       "      <th>ElapsedTime</th>\n",
       "    </tr>\n",
       "  </thead>\n",
       "  <tbody>\n",
       "    <tr>\n",
       "      <td>0</td>\n",
       "      <td>0.0</td>\n",
       "      <td>PP1</td>\n",
       "      <td>1</td>\n",
       "      <td>20120918T131600000</td>\n",
       "      <td>NaN</td>\n",
       "      <td>NaN</td>\n",
       "      <td>80.239727</td>\n",
       "      <td>2012-09-18 13:16:00</td>\n",
       "      <td>p1</td>\n",
       "      <td>rest</td>\n",
       "      <td>R</td>\n",
       "      <td>0</td>\n",
       "    </tr>\n",
       "    <tr>\n",
       "      <td>1</td>\n",
       "      <td>1.0</td>\n",
       "      <td>PP1</td>\n",
       "      <td>1</td>\n",
       "      <td>20120918T131700000</td>\n",
       "      <td>61</td>\n",
       "      <td>0.06142</td>\n",
       "      <td>77.365127</td>\n",
       "      <td>2012-09-18 13:17:00</td>\n",
       "      <td>p1</td>\n",
       "      <td>rest</td>\n",
       "      <td>R</td>\n",
       "      <td>1</td>\n",
       "    </tr>\n",
       "    <tr>\n",
       "      <td>2</td>\n",
       "      <td>2.0</td>\n",
       "      <td>PP1</td>\n",
       "      <td>1</td>\n",
       "      <td>20120918T131800000</td>\n",
       "      <td>64</td>\n",
       "      <td>0.049663</td>\n",
       "      <td>77.359559</td>\n",
       "      <td>2012-09-18 13:18:00</td>\n",
       "      <td>p1</td>\n",
       "      <td>rest</td>\n",
       "      <td>R</td>\n",
       "      <td>2</td>\n",
       "    </tr>\n",
       "    <tr>\n",
       "      <td>3</td>\n",
       "      <td>3.0</td>\n",
       "      <td>PP1</td>\n",
       "      <td>1</td>\n",
       "      <td>20120918T131900000</td>\n",
       "      <td>60</td>\n",
       "      <td>0.052487</td>\n",
       "      <td>76.728772</td>\n",
       "      <td>2012-09-18 13:19:00</td>\n",
       "      <td>p1</td>\n",
       "      <td>rest</td>\n",
       "      <td>R</td>\n",
       "      <td>3</td>\n",
       "    </tr>\n",
       "    <tr>\n",
       "      <td>4</td>\n",
       "      <td>4.0</td>\n",
       "      <td>PP1</td>\n",
       "      <td>1</td>\n",
       "      <td>20120918T132000000</td>\n",
       "      <td>61</td>\n",
       "      <td>0.051189</td>\n",
       "      <td>76.512877</td>\n",
       "      <td>2012-09-18 13:20:00</td>\n",
       "      <td>p1</td>\n",
       "      <td>rest</td>\n",
       "      <td>R</td>\n",
       "      <td>4</td>\n",
       "    </tr>\n",
       "  </tbody>\n",
       "</table>\n",
       "</div>"
      ],
      "text/plain": [
       "   Unnamed: 0   PP  C           timestamp   HR     RMSSD        SCL  \\\n",
       "0         0.0  PP1  1  20120918T131600000  NaN       NaN  80.239727   \n",
       "1         1.0  PP1  1  20120918T131700000   61   0.06142  77.365127   \n",
       "2         2.0  PP1  1  20120918T131800000   64  0.049663  77.359559   \n",
       "3         3.0  PP1  1  20120918T131900000   60  0.052487  76.728772   \n",
       "4         4.0  PP1  1  20120918T132000000   61  0.051189  76.512877   \n",
       "\n",
       "                  date subject label Condition ElapsedTime  \n",
       "0  2012-09-18 13:16:00      p1  rest         R           0  \n",
       "1  2012-09-18 13:17:00      p1  rest         R           1  \n",
       "2  2012-09-18 13:18:00      p1  rest         R           2  \n",
       "3  2012-09-18 13:19:00      p1  rest         R           3  \n",
       "4  2012-09-18 13:20:00      p1  rest         R           4  "
      ]
     },
     "execution_count": 115,
     "metadata": {},
     "output_type": "execute_result"
    }
   ],
   "source": [
    "df.head()"
   ]
  },
  {
   "cell_type": "code",
   "execution_count": 116,
   "metadata": {},
   "outputs": [],
   "source": [
    "df.drop(columns=[\"Unnamed: 0\", 'PP', 'C', 'timestamp'], inplace=True)"
   ]
  },
  {
   "cell_type": "code",
   "execution_count": 117,
   "metadata": {},
   "outputs": [
    {
     "data": {
      "text/html": [
       "<div>\n",
       "<style scoped>\n",
       "    .dataframe tbody tr th:only-of-type {\n",
       "        vertical-align: middle;\n",
       "    }\n",
       "\n",
       "    .dataframe tbody tr th {\n",
       "        vertical-align: top;\n",
       "    }\n",
       "\n",
       "    .dataframe thead th {\n",
       "        text-align: right;\n",
       "    }\n",
       "</style>\n",
       "<table border=\"1\" class=\"dataframe\">\n",
       "  <thead>\n",
       "    <tr style=\"text-align: right;\">\n",
       "      <th></th>\n",
       "      <th>HR</th>\n",
       "      <th>RMSSD</th>\n",
       "      <th>SCL</th>\n",
       "      <th>date</th>\n",
       "      <th>subject</th>\n",
       "      <th>label</th>\n",
       "      <th>Condition</th>\n",
       "      <th>ElapsedTime</th>\n",
       "    </tr>\n",
       "  </thead>\n",
       "  <tbody>\n",
       "    <tr>\n",
       "      <td>0</td>\n",
       "      <td>NaN</td>\n",
       "      <td>NaN</td>\n",
       "      <td>80.239727</td>\n",
       "      <td>2012-09-18 13:16:00</td>\n",
       "      <td>p1</td>\n",
       "      <td>rest</td>\n",
       "      <td>R</td>\n",
       "      <td>0</td>\n",
       "    </tr>\n",
       "    <tr>\n",
       "      <td>1</td>\n",
       "      <td>61</td>\n",
       "      <td>0.06142</td>\n",
       "      <td>77.365127</td>\n",
       "      <td>2012-09-18 13:17:00</td>\n",
       "      <td>p1</td>\n",
       "      <td>rest</td>\n",
       "      <td>R</td>\n",
       "      <td>1</td>\n",
       "    </tr>\n",
       "    <tr>\n",
       "      <td>2</td>\n",
       "      <td>64</td>\n",
       "      <td>0.049663</td>\n",
       "      <td>77.359559</td>\n",
       "      <td>2012-09-18 13:18:00</td>\n",
       "      <td>p1</td>\n",
       "      <td>rest</td>\n",
       "      <td>R</td>\n",
       "      <td>2</td>\n",
       "    </tr>\n",
       "    <tr>\n",
       "      <td>3</td>\n",
       "      <td>60</td>\n",
       "      <td>0.052487</td>\n",
       "      <td>76.728772</td>\n",
       "      <td>2012-09-18 13:19:00</td>\n",
       "      <td>p1</td>\n",
       "      <td>rest</td>\n",
       "      <td>R</td>\n",
       "      <td>3</td>\n",
       "    </tr>\n",
       "    <tr>\n",
       "      <td>4</td>\n",
       "      <td>61</td>\n",
       "      <td>0.051189</td>\n",
       "      <td>76.512877</td>\n",
       "      <td>2012-09-18 13:20:00</td>\n",
       "      <td>p1</td>\n",
       "      <td>rest</td>\n",
       "      <td>R</td>\n",
       "      <td>4</td>\n",
       "    </tr>\n",
       "  </tbody>\n",
       "</table>\n",
       "</div>"
      ],
      "text/plain": [
       "    HR     RMSSD        SCL                 date subject label Condition  \\\n",
       "0  NaN       NaN  80.239727  2012-09-18 13:16:00      p1  rest         R   \n",
       "1   61   0.06142  77.365127  2012-09-18 13:17:00      p1  rest         R   \n",
       "2   64  0.049663  77.359559  2012-09-18 13:18:00      p1  rest         R   \n",
       "3   60  0.052487  76.728772  2012-09-18 13:19:00      p1  rest         R   \n",
       "4   61  0.051189  76.512877  2012-09-18 13:20:00      p1  rest         R   \n",
       "\n",
       "  ElapsedTime  \n",
       "0           0  \n",
       "1           1  \n",
       "2           2  \n",
       "3           3  \n",
       "4           4  "
      ]
     },
     "execution_count": 117,
     "metadata": {},
     "output_type": "execute_result"
    }
   ],
   "source": [
    "df.head()"
   ]
  },
  {
   "cell_type": "code",
   "execution_count": 118,
   "metadata": {},
   "outputs": [
    {
     "name": "stdout",
     "output_type": "stream",
     "text": [
      "PROBLEM\n",
      "129\n",
      "----\n",
      "PROBLEM\n",
      "251\n",
      "----\n",
      "PROBLEM\n",
      "380\n",
      "----\n",
      "PROBLEM\n",
      "509\n",
      "----\n",
      "PROBLEM\n",
      "635\n",
      "----\n",
      "PROBLEM\n",
      "762\n",
      "----\n",
      "PROBLEM\n",
      "893\n",
      "----\n",
      "PROBLEM\n",
      "1010\n",
      "----\n",
      "PROBLEM\n",
      "1133\n",
      "----\n",
      "PROBLEM\n",
      "1262\n",
      "----\n",
      "PROBLEM\n",
      "1390\n",
      "----\n",
      "PROBLEM\n",
      "1520\n",
      "----\n",
      "PROBLEM\n",
      "1647\n",
      "----\n",
      "PROBLEM\n",
      "1777\n",
      "----\n",
      "PROBLEM\n",
      "1899\n",
      "----\n",
      "PROBLEM\n",
      "2029\n",
      "----\n",
      "PROBLEM\n",
      "2159\n",
      "----\n",
      "PROBLEM\n",
      "2279\n",
      "----\n",
      "PROBLEM\n",
      "2410\n",
      "----\n",
      "PROBLEM\n",
      "2540\n",
      "----\n",
      "PROBLEM\n",
      "2647\n",
      "----\n",
      "PROBLEM\n",
      "2774\n",
      "----\n",
      "PROBLEM\n",
      "2904\n",
      "----\n",
      "PROBLEM\n",
      "3035\n",
      "----\n"
     ]
    }
   ],
   "source": [
    "break_idxs = []\n",
    "for idx, d in enumerate(df['date']):\n",
    "    try:\n",
    "        pd.to_datetime(d)\n",
    "    except:\n",
    "        print(\"PROBLEM\")\n",
    "        print(idx)\n",
    "        print('----')\n",
    "        break_idxs.append(idx)"
   ]
  },
  {
   "cell_type": "code",
   "execution_count": 119,
   "metadata": {},
   "outputs": [
    {
     "data": {
      "text/plain": [
       "24"
      ]
     },
     "execution_count": 119,
     "metadata": {},
     "output_type": "execute_result"
    }
   ],
   "source": [
    "np.sum(df['date'] == 'date')"
   ]
  },
  {
   "cell_type": "code",
   "execution_count": 120,
   "metadata": {},
   "outputs": [
    {
     "data": {
      "text/plain": [
       "HR                      HR\n",
       "RMSSD                RMSSD\n",
       "SCL                    SCL\n",
       "date                  date\n",
       "subject            subject\n",
       "label                label\n",
       "Condition        Condition\n",
       "ElapsedTime    ElapsedTime\n",
       "Name: 3035, dtype: object"
      ]
     },
     "execution_count": 120,
     "metadata": {},
     "output_type": "execute_result"
    }
   ],
   "source": [
    "df.loc[3035]"
   ]
  },
  {
   "cell_type": "code",
   "execution_count": 121,
   "metadata": {},
   "outputs": [],
   "source": [
    "df = df.drop(break_idxs)"
   ]
  },
  {
   "cell_type": "code",
   "execution_count": 122,
   "metadata": {},
   "outputs": [],
   "source": [
    "df['date'] = pd.to_datetime(df['date'])"
   ]
  },
  {
   "cell_type": "code",
   "execution_count": 123,
   "metadata": {},
   "outputs": [
    {
     "data": {
      "text/html": [
       "<div>\n",
       "<style scoped>\n",
       "    .dataframe tbody tr th:only-of-type {\n",
       "        vertical-align: middle;\n",
       "    }\n",
       "\n",
       "    .dataframe tbody tr th {\n",
       "        vertical-align: top;\n",
       "    }\n",
       "\n",
       "    .dataframe thead th {\n",
       "        text-align: right;\n",
       "    }\n",
       "</style>\n",
       "<table border=\"1\" class=\"dataframe\">\n",
       "  <thead>\n",
       "    <tr style=\"text-align: right;\">\n",
       "      <th></th>\n",
       "      <th>HR</th>\n",
       "      <th>RMSSD</th>\n",
       "      <th>SCL</th>\n",
       "      <th>date</th>\n",
       "      <th>subject</th>\n",
       "      <th>label</th>\n",
       "      <th>Condition</th>\n",
       "      <th>ElapsedTime</th>\n",
       "    </tr>\n",
       "  </thead>\n",
       "  <tbody>\n",
       "    <tr>\n",
       "      <td>0</td>\n",
       "      <td>NaN</td>\n",
       "      <td>NaN</td>\n",
       "      <td>80.239727</td>\n",
       "      <td>2012-09-18 13:16:00</td>\n",
       "      <td>p1</td>\n",
       "      <td>rest</td>\n",
       "      <td>R</td>\n",
       "      <td>0</td>\n",
       "    </tr>\n",
       "    <tr>\n",
       "      <td>1</td>\n",
       "      <td>61</td>\n",
       "      <td>0.06142</td>\n",
       "      <td>77.365127</td>\n",
       "      <td>2012-09-18 13:17:00</td>\n",
       "      <td>p1</td>\n",
       "      <td>rest</td>\n",
       "      <td>R</td>\n",
       "      <td>1</td>\n",
       "    </tr>\n",
       "    <tr>\n",
       "      <td>2</td>\n",
       "      <td>64</td>\n",
       "      <td>0.049663</td>\n",
       "      <td>77.359559</td>\n",
       "      <td>2012-09-18 13:18:00</td>\n",
       "      <td>p1</td>\n",
       "      <td>rest</td>\n",
       "      <td>R</td>\n",
       "      <td>2</td>\n",
       "    </tr>\n",
       "    <tr>\n",
       "      <td>3</td>\n",
       "      <td>60</td>\n",
       "      <td>0.052487</td>\n",
       "      <td>76.728772</td>\n",
       "      <td>2012-09-18 13:19:00</td>\n",
       "      <td>p1</td>\n",
       "      <td>rest</td>\n",
       "      <td>R</td>\n",
       "      <td>3</td>\n",
       "    </tr>\n",
       "    <tr>\n",
       "      <td>4</td>\n",
       "      <td>61</td>\n",
       "      <td>0.051189</td>\n",
       "      <td>76.512877</td>\n",
       "      <td>2012-09-18 13:20:00</td>\n",
       "      <td>p1</td>\n",
       "      <td>rest</td>\n",
       "      <td>R</td>\n",
       "      <td>4</td>\n",
       "    </tr>\n",
       "  </tbody>\n",
       "</table>\n",
       "</div>"
      ],
      "text/plain": [
       "    HR     RMSSD        SCL                date subject label Condition  \\\n",
       "0  NaN       NaN  80.239727 2012-09-18 13:16:00      p1  rest         R   \n",
       "1   61   0.06142  77.365127 2012-09-18 13:17:00      p1  rest         R   \n",
       "2   64  0.049663  77.359559 2012-09-18 13:18:00      p1  rest         R   \n",
       "3   60  0.052487  76.728772 2012-09-18 13:19:00      p1  rest         R   \n",
       "4   61  0.051189  76.512877 2012-09-18 13:20:00      p1  rest         R   \n",
       "\n",
       "  ElapsedTime  \n",
       "0           0  \n",
       "1           1  \n",
       "2           2  \n",
       "3           3  \n",
       "4           4  "
      ]
     },
     "execution_count": 123,
     "metadata": {},
     "output_type": "execute_result"
    }
   ],
   "source": [
    "df.head()"
   ]
  },
  {
   "cell_type": "code",
   "execution_count": 124,
   "metadata": {},
   "outputs": [
    {
     "name": "stdout",
     "output_type": "stream",
     "text": [
      "<class 'pandas.core.frame.DataFrame'>\n",
      "Int64Index: 3140 entries, 0 to 3163\n",
      "Data columns (total 8 columns):\n",
      "HR             1490 non-null object\n",
      "RMSSD          1490 non-null object\n",
      "SCL            2578 non-null object\n",
      "date           3140 non-null datetime64[ns]\n",
      "subject        3140 non-null object\n",
      "label          3140 non-null object\n",
      "Condition      3140 non-null object\n",
      "ElapsedTime    3140 non-null object\n",
      "dtypes: datetime64[ns](1), object(7)\n",
      "memory usage: 220.8+ KB\n"
     ]
    }
   ],
   "source": [
    "df.info()"
   ]
  },
  {
   "cell_type": "code",
   "execution_count": null,
   "metadata": {},
   "outputs": [],
   "source": [
    "new_df.set_index(new_df['date'], inplace=True)"
   ]
  },
  {
   "cell_type": "code",
   "execution_count": null,
   "metadata": {},
   "outputs": [],
   "source": [
    "new_df['HR'] = new_df['HR'].astype('int64')\n",
    "new_df['RMSSD'] = new_df['RMSSD'].astype('float64')"
   ]
  },
  {
   "cell_type": "code",
   "execution_count": 125,
   "metadata": {},
   "outputs": [],
   "source": [
    "# RR is the peak in a heartbeat\n",
    "# RR interval (RRI) is the distance between peaks in milliseconds between beats from an ECG\n",
    "# RMSDD is the square root of the mean distance between RR for a period of time\n",
    "# RMSDD is used as HRV calculation based on one minute intervals\n",
    "# SDNN is the standard deviaiton of all the RR intervals"
   ]
  },
  {
   "cell_type": "code",
   "execution_count": 126,
   "metadata": {},
   "outputs": [
    {
     "data": {
      "text/plain": [
       "2.966666666666667"
      ]
     },
     "execution_count": 126,
     "metadata": {},
     "output_type": "execute_result"
    }
   ],
   "source": [
    "178 / 60"
   ]
  },
  {
   "cell_type": "code",
   "execution_count": 127,
   "metadata": {},
   "outputs": [],
   "source": [
    "# 2.97 hours of data per participant"
   ]
  },
  {
   "cell_type": "code",
   "execution_count": 128,
   "metadata": {},
   "outputs": [],
   "source": [
    "# Conditions are R: rest, N: no stress, T: time pressure, I: interruption \n",
    "# No stress - Allowed to work for a maximum 45 minutes but they don't know the duration \n",
    "# Time Pressure - Time limit of 2/3 to complete task based on duration in no stress\n",
    "# Interruption - Received 8 emails in the middle of the assigned task \n",
    "# Relax - Not working on a task"
   ]
  },
  {
   "cell_type": "code",
   "execution_count": 129,
   "metadata": {},
   "outputs": [
    {
     "data": {
      "text/html": [
       "<div>\n",
       "<style scoped>\n",
       "    .dataframe tbody tr th:only-of-type {\n",
       "        vertical-align: middle;\n",
       "    }\n",
       "\n",
       "    .dataframe tbody tr th {\n",
       "        vertical-align: top;\n",
       "    }\n",
       "\n",
       "    .dataframe thead th {\n",
       "        text-align: right;\n",
       "    }\n",
       "</style>\n",
       "<table border=\"1\" class=\"dataframe\">\n",
       "  <thead>\n",
       "    <tr style=\"text-align: right;\">\n",
       "      <th></th>\n",
       "      <th>HR</th>\n",
       "      <th>RMSSD</th>\n",
       "      <th>SCL</th>\n",
       "      <th>date</th>\n",
       "      <th>subject</th>\n",
       "      <th>label</th>\n",
       "      <th>Condition</th>\n",
       "      <th>ElapsedTime</th>\n",
       "    </tr>\n",
       "  </thead>\n",
       "  <tbody>\n",
       "    <tr>\n",
       "      <td>0</td>\n",
       "      <td>NaN</td>\n",
       "      <td>NaN</td>\n",
       "      <td>80.239727</td>\n",
       "      <td>2012-09-18 13:16:00</td>\n",
       "      <td>p1</td>\n",
       "      <td>rest</td>\n",
       "      <td>R</td>\n",
       "      <td>0</td>\n",
       "    </tr>\n",
       "    <tr>\n",
       "      <td>1</td>\n",
       "      <td>61</td>\n",
       "      <td>0.06142</td>\n",
       "      <td>77.365127</td>\n",
       "      <td>2012-09-18 13:17:00</td>\n",
       "      <td>p1</td>\n",
       "      <td>rest</td>\n",
       "      <td>R</td>\n",
       "      <td>1</td>\n",
       "    </tr>\n",
       "    <tr>\n",
       "      <td>2</td>\n",
       "      <td>64</td>\n",
       "      <td>0.049663</td>\n",
       "      <td>77.359559</td>\n",
       "      <td>2012-09-18 13:18:00</td>\n",
       "      <td>p1</td>\n",
       "      <td>rest</td>\n",
       "      <td>R</td>\n",
       "      <td>2</td>\n",
       "    </tr>\n",
       "    <tr>\n",
       "      <td>3</td>\n",
       "      <td>60</td>\n",
       "      <td>0.052487</td>\n",
       "      <td>76.728772</td>\n",
       "      <td>2012-09-18 13:19:00</td>\n",
       "      <td>p1</td>\n",
       "      <td>rest</td>\n",
       "      <td>R</td>\n",
       "      <td>3</td>\n",
       "    </tr>\n",
       "    <tr>\n",
       "      <td>4</td>\n",
       "      <td>61</td>\n",
       "      <td>0.051189</td>\n",
       "      <td>76.512877</td>\n",
       "      <td>2012-09-18 13:20:00</td>\n",
       "      <td>p1</td>\n",
       "      <td>rest</td>\n",
       "      <td>R</td>\n",
       "      <td>4</td>\n",
       "    </tr>\n",
       "  </tbody>\n",
       "</table>\n",
       "</div>"
      ],
      "text/plain": [
       "    HR     RMSSD        SCL                date subject label Condition  \\\n",
       "0  NaN       NaN  80.239727 2012-09-18 13:16:00      p1  rest         R   \n",
       "1   61   0.06142  77.365127 2012-09-18 13:17:00      p1  rest         R   \n",
       "2   64  0.049663  77.359559 2012-09-18 13:18:00      p1  rest         R   \n",
       "3   60  0.052487  76.728772 2012-09-18 13:19:00      p1  rest         R   \n",
       "4   61  0.051189  76.512877 2012-09-18 13:20:00      p1  rest         R   \n",
       "\n",
       "  ElapsedTime  \n",
       "0           0  \n",
       "1           1  \n",
       "2           2  \n",
       "3           3  \n",
       "4           4  "
      ]
     },
     "execution_count": 129,
     "metadata": {},
     "output_type": "execute_result"
    }
   ],
   "source": [
    "df.head()"
   ]
  },
  {
   "cell_type": "code",
   "execution_count": 130,
   "metadata": {},
   "outputs": [],
   "source": [
    "subjects = df['subject'].unique()"
   ]
  },
  {
   "cell_type": "code",
   "execution_count": 131,
   "metadata": {},
   "outputs": [],
   "source": [
    "subjects = subjects[(subjects != ['p8'])]\n",
    "subjects = subjects[(subjects != ['p11'])]\n",
    "subjects = subjects[(subjects != ['p15'])]"
   ]
  },
  {
   "cell_type": "code",
   "execution_count": 132,
   "metadata": {},
   "outputs": [
    {
     "data": {
      "image/png": "[encoded data removed]",
      "text/plain": [
       "<Figure size 1080x1080 with 25 Axes>"
      ]
     },
     "metadata": {
      "needs_background": "light"
     },
     "output_type": "display_data"
    }
   ],
   "source": [
    "fig, axs = plt.subplots(5, 5, figsize=(15, 15))\n",
    "for ax, subject in zip(axs.flatten(), subjects):\n",
    "    df[df['subject'] == (subject)]['HR'].hist(ax=ax)"
   ]
  },
  {
   "cell_type": "code",
   "execution_count": 133,
   "metadata": {},
   "outputs": [
    {
     "data": {
      "text/html": [
       "<div>\n",
       "<style scoped>\n",
       "    .dataframe tbody tr th:only-of-type {\n",
       "        vertical-align: middle;\n",
       "    }\n",
       "\n",
       "    .dataframe tbody tr th {\n",
       "        vertical-align: top;\n",
       "    }\n",
       "\n",
       "    .dataframe thead th {\n",
       "        text-align: right;\n",
       "    }\n",
       "</style>\n",
       "<table border=\"1\" class=\"dataframe\">\n",
       "  <thead>\n",
       "    <tr style=\"text-align: right;\">\n",
       "      <th></th>\n",
       "      <th>HR</th>\n",
       "      <th>RMSSD</th>\n",
       "      <th>SCL</th>\n",
       "      <th>date</th>\n",
       "      <th>subject</th>\n",
       "      <th>label</th>\n",
       "      <th>Condition</th>\n",
       "      <th>ElapsedTime</th>\n",
       "    </tr>\n",
       "  </thead>\n",
       "  <tbody>\n",
       "    <tr>\n",
       "      <td>0</td>\n",
       "      <td>NaN</td>\n",
       "      <td>NaN</td>\n",
       "      <td>80.239727</td>\n",
       "      <td>2012-09-18 13:16:00</td>\n",
       "      <td>p1</td>\n",
       "      <td>rest</td>\n",
       "      <td>R</td>\n",
       "      <td>0</td>\n",
       "    </tr>\n",
       "    <tr>\n",
       "      <td>1</td>\n",
       "      <td>61</td>\n",
       "      <td>0.06142</td>\n",
       "      <td>77.365127</td>\n",
       "      <td>2012-09-18 13:17:00</td>\n",
       "      <td>p1</td>\n",
       "      <td>rest</td>\n",
       "      <td>R</td>\n",
       "      <td>1</td>\n",
       "    </tr>\n",
       "    <tr>\n",
       "      <td>2</td>\n",
       "      <td>64</td>\n",
       "      <td>0.049663</td>\n",
       "      <td>77.359559</td>\n",
       "      <td>2012-09-18 13:18:00</td>\n",
       "      <td>p1</td>\n",
       "      <td>rest</td>\n",
       "      <td>R</td>\n",
       "      <td>2</td>\n",
       "    </tr>\n",
       "    <tr>\n",
       "      <td>3</td>\n",
       "      <td>60</td>\n",
       "      <td>0.052487</td>\n",
       "      <td>76.728772</td>\n",
       "      <td>2012-09-18 13:19:00</td>\n",
       "      <td>p1</td>\n",
       "      <td>rest</td>\n",
       "      <td>R</td>\n",
       "      <td>3</td>\n",
       "    </tr>\n",
       "    <tr>\n",
       "      <td>4</td>\n",
       "      <td>61</td>\n",
       "      <td>0.051189</td>\n",
       "      <td>76.512877</td>\n",
       "      <td>2012-09-18 13:20:00</td>\n",
       "      <td>p1</td>\n",
       "      <td>rest</td>\n",
       "      <td>R</td>\n",
       "      <td>4</td>\n",
       "    </tr>\n",
       "  </tbody>\n",
       "</table>\n",
       "</div>"
      ],
      "text/plain": [
       "    HR     RMSSD        SCL                date subject label Condition  \\\n",
       "0  NaN       NaN  80.239727 2012-09-18 13:16:00      p1  rest         R   \n",
       "1   61   0.06142  77.365127 2012-09-18 13:17:00      p1  rest         R   \n",
       "2   64  0.049663  77.359559 2012-09-18 13:18:00      p1  rest         R   \n",
       "3   60  0.052487  76.728772 2012-09-18 13:19:00      p1  rest         R   \n",
       "4   61  0.051189  76.512877 2012-09-18 13:20:00      p1  rest         R   \n",
       "\n",
       "  ElapsedTime  \n",
       "0           0  \n",
       "1           1  \n",
       "2           2  \n",
       "3           3  \n",
       "4           4  "
      ]
     },
     "execution_count": 133,
     "metadata": {},
     "output_type": "execute_result"
    }
   ],
   "source": [
    "df.head()"
   ]
  },
  {
   "cell_type": "code",
   "execution_count": 134,
   "metadata": {},
   "outputs": [],
   "source": [
    "new_df = df.dropna()"
   ]
  },
  {
   "cell_type": "code",
   "execution_count": 135,
   "metadata": {},
   "outputs": [
    {
     "name": "stdout",
     "output_type": "stream",
     "text": [
      "<class 'pandas.core.frame.DataFrame'>\n",
      "Int64Index: 1437 entries, 1 to 3085\n",
      "Data columns (total 8 columns):\n",
      "HR             1437 non-null object\n",
      "RMSSD          1437 non-null object\n",
      "SCL            1437 non-null object\n",
      "date           1437 non-null datetime64[ns]\n",
      "subject        1437 non-null object\n",
      "label          1437 non-null object\n",
      "Condition      1437 non-null object\n",
      "ElapsedTime    1437 non-null object\n",
      "dtypes: datetime64[ns](1), object(7)\n",
      "memory usage: 101.0+ KB\n"
     ]
    }
   ],
   "source": [
    "new_df.info()"
   ]
  },
  {
   "cell_type": "code",
   "execution_count": 148,
   "metadata": {},
   "outputs": [
    {
     "data": {
      "text/plain": [
       "<matplotlib.axes._subplots.AxesSubplot at 0x1a21d70c50>"
      ]
     },
     "execution_count": 148,
     "metadata": {},
     "output_type": "execute_result"
    },
    {
     "data": {
      "image/png": "[encoded data removed]",
      "text/plain": [
       "<Figure size 432x288 with 1 Axes>"
      ]
     },
     "metadata": {
      "needs_background": "light"
     },
     "output_type": "display_data"
    }
   ],
   "source": [
    "new_df[(new_df['subject'] == 'p1') & (new_df['label'] == 'no stress')]['HR'].plot()"
   ]
  },
  {
   "cell_type": "code",
   "execution_count": 149,
   "metadata": {},
   "outputs": [
    {
     "data": {
      "text/plain": [
       "<matplotlib.axes._subplots.AxesSubplot at 0x1a22a44750>"
      ]
     },
     "execution_count": 149,
     "metadata": {},
     "output_type": "execute_result"
    },
    {
     "data": {
      "image/png": "[encoded data removed]",
      "text/plain": [
       "<Figure size 432x288 with 1 Axes>"
      ]
     },
     "metadata": {
      "needs_background": "light"
     },
     "output_type": "display_data"
    }
   ],
   "source": [
    "new_df[(new_df['subject'] == 'p1') & (new_df['label'] == 'time pressure')]['HR'].plot()"
   ]
  },
  {
   "cell_type": "code",
   "execution_count": 150,
   "metadata": {},
   "outputs": [],
   "source": [
    "# fig, ax = plt.subplots(figsize=(15, 10))\n",
    "# for i in subjects:\n",
    "#     try:\n",
    "#         new_df[(new_df['subject'] == i) & (new_df['label'] == 'no stress')]['HR'].plot(ax=ax, label=i)\n",
    "#     except:\n",
    "#         print(i)\n",
    "#         continue\n",
    "#     ax.legend()"
   ]
  },
  {
   "cell_type": "code",
   "execution_count": null,
   "metadata": {},
   "outputs": [],
   "source": []
  },
  {
   "cell_type": "code",
   "execution_count": null,
   "metadata": {},
   "outputs": [],
   "source": []
  }
 ],
 "metadata": {
  "kernelspec": {
   "display_name": "Python 3",
   "language": "python",
   "name": "python3"
  },
  "language_info": {
   "codemirror_mode": {
    "name": "ipython",
    "version": 3
   },
   "file_extension": ".py",
   "mimetype": "text/x-python",
   "name": "python",
   "nbconvert_exporter": "python",
   "pygments_lexer": "ipython3",
   "version": "3.7.4"
  }
 },
 "nbformat": 4,
 "nbformat_minor": 2
}
